{
 "cells": [
  {
   "cell_type": "code",
   "execution_count": 1,
   "metadata": {
    "collapsed": true
   },
   "outputs": [],
   "source": [
    "import numpy as np\n",
    "import pandas as pd"
   ]
  },
  {
   "cell_type": "code",
   "execution_count": 6,
   "outputs": [
    {
     "data": {
      "text/plain": "   gender race/ethnicity parental_level_of_education         lunch  \\\n0  female        group B           bachelor's degree      standard   \n1  female        group C                some college      standard   \n2  female        group B             master's degree      standard   \n3    male        group A          associate's degree  free/reduced   \n4    male        group C                some college      standard   \n\n  test_preparation_course  math_score  reading_score  writing_score  \n0                    none          72             72             74  \n1               completed          69             90             88  \n2                    none          90             95             93  \n3                    none          47             57             44  \n4                    none          76             78             75  ",
      "text/html": "<div>\n<style scoped>\n    .dataframe tbody tr th:only-of-type {\n        vertical-align: middle;\n    }\n\n    .dataframe tbody tr th {\n        vertical-align: top;\n    }\n\n    .dataframe thead th {\n        text-align: right;\n    }\n</style>\n<table border=\"1\" class=\"dataframe\">\n  <thead>\n    <tr style=\"text-align: right;\">\n      <th></th>\n      <th>gender</th>\n      <th>race/ethnicity</th>\n      <th>parental_level_of_education</th>\n      <th>lunch</th>\n      <th>test_preparation_course</th>\n      <th>math_score</th>\n      <th>reading_score</th>\n      <th>writing_score</th>\n    </tr>\n  </thead>\n  <tbody>\n    <tr>\n      <th>0</th>\n      <td>female</td>\n      <td>group B</td>\n      <td>bachelor's degree</td>\n      <td>standard</td>\n      <td>none</td>\n      <td>72</td>\n      <td>72</td>\n      <td>74</td>\n    </tr>\n    <tr>\n      <th>1</th>\n      <td>female</td>\n      <td>group C</td>\n      <td>some college</td>\n      <td>standard</td>\n      <td>completed</td>\n      <td>69</td>\n      <td>90</td>\n      <td>88</td>\n    </tr>\n    <tr>\n      <th>2</th>\n      <td>female</td>\n      <td>group B</td>\n      <td>master's degree</td>\n      <td>standard</td>\n      <td>none</td>\n      <td>90</td>\n      <td>95</td>\n      <td>93</td>\n    </tr>\n    <tr>\n      <th>3</th>\n      <td>male</td>\n      <td>group A</td>\n      <td>associate's degree</td>\n      <td>free/reduced</td>\n      <td>none</td>\n      <td>47</td>\n      <td>57</td>\n      <td>44</td>\n    </tr>\n    <tr>\n      <th>4</th>\n      <td>male</td>\n      <td>group C</td>\n      <td>some college</td>\n      <td>standard</td>\n      <td>none</td>\n      <td>76</td>\n      <td>78</td>\n      <td>75</td>\n    </tr>\n  </tbody>\n</table>\n</div>"
     },
     "execution_count": 6,
     "metadata": {},
     "output_type": "execute_result"
    }
   ],
   "source": [
    "student_performance = pd.read_csv(\"https://stepik.org/media/attachments/course/4852/StudentsPerformance.csv\")\n",
    "student_performance = student_performance.rename(columns=\n",
    "                                                 {'parental level of education':'parental_level_of_education',\n",
    "                                                 'test preparation course': 'test_preparation_course',\n",
    "                                                 'math score':'math_score',\n",
    "                                                 'reading score': 'reading_score',\n",
    "                                                 'writing score': 'writing_score'})\n",
    "student_performance.head()"
   ],
   "metadata": {
    "collapsed": false,
    "pycharm": {
     "name": "#%%\n"
    }
   }
  },
  {
   "cell_type": "code",
   "execution_count": 12,
   "outputs": [
    {
     "data": {
      "text/plain": "   gender  mean_math_score  mean_reading_score\n0  female        63.633205           72.608108\n1    male        68.728216           65.473029",
      "text/html": "<div>\n<style scoped>\n    .dataframe tbody tr th:only-of-type {\n        vertical-align: middle;\n    }\n\n    .dataframe tbody tr th {\n        vertical-align: top;\n    }\n\n    .dataframe thead th {\n        text-align: right;\n    }\n</style>\n<table border=\"1\" class=\"dataframe\">\n  <thead>\n    <tr style=\"text-align: right;\">\n      <th></th>\n      <th>gender</th>\n      <th>mean_math_score</th>\n      <th>mean_reading_score</th>\n    </tr>\n  </thead>\n  <tbody>\n    <tr>\n      <th>0</th>\n      <td>female</td>\n      <td>63.633205</td>\n      <td>72.608108</td>\n    </tr>\n    <tr>\n      <th>1</th>\n      <td>male</td>\n      <td>68.728216</td>\n      <td>65.473029</td>\n    </tr>\n  </tbody>\n</table>\n</div>"
     },
     "execution_count": 12,
     "metadata": {},
     "output_type": "execute_result"
    }
   ],
   "source": [
    "student_performance.groupby(\"gender\", as_index=False)\\\n",
    "    .aggregate({\"math_score\": \"mean\", \"reading_score\":\"mean\"})\\\n",
    "    .rename(columns={\n",
    "    \"math_score\":\"mean_math_score\",\n",
    "    \"reading_score\": \"mean_reading_score\"\n",
    "    })"
   ],
   "metadata": {
    "collapsed": false,
    "pycharm": {
     "name": "#%%\n"
    }
   }
  },
  {
   "cell_type": "code",
   "execution_count": 13,
   "outputs": [
    {
     "data": {
      "text/plain": "   gender race/ethnicity  mean_math_score  mean_reading_score\n0  female        group A        58.527778           69.000000\n1  female        group B        61.403846           71.076923\n2  female        group C        62.033333           71.944444\n3  female        group D        65.248062           74.046512\n4  female        group E        70.811594           75.840580\n5    male        group A        63.735849           61.735849\n6    male        group B        65.930233           62.848837\n7    male        group C        67.611511           65.424460\n8    male        group D        69.413534           66.135338\n9    male        group E        76.746479           70.295775",
      "text/html": "<div>\n<style scoped>\n    .dataframe tbody tr th:only-of-type {\n        vertical-align: middle;\n    }\n\n    .dataframe tbody tr th {\n        vertical-align: top;\n    }\n\n    .dataframe thead th {\n        text-align: right;\n    }\n</style>\n<table border=\"1\" class=\"dataframe\">\n  <thead>\n    <tr style=\"text-align: right;\">\n      <th></th>\n      <th>gender</th>\n      <th>race/ethnicity</th>\n      <th>mean_math_score</th>\n      <th>mean_reading_score</th>\n    </tr>\n  </thead>\n  <tbody>\n    <tr>\n      <th>0</th>\n      <td>female</td>\n      <td>group A</td>\n      <td>58.527778</td>\n      <td>69.000000</td>\n    </tr>\n    <tr>\n      <th>1</th>\n      <td>female</td>\n      <td>group B</td>\n      <td>61.403846</td>\n      <td>71.076923</td>\n    </tr>\n    <tr>\n      <th>2</th>\n      <td>female</td>\n      <td>group C</td>\n      <td>62.033333</td>\n      <td>71.944444</td>\n    </tr>\n    <tr>\n      <th>3</th>\n      <td>female</td>\n      <td>group D</td>\n      <td>65.248062</td>\n      <td>74.046512</td>\n    </tr>\n    <tr>\n      <th>4</th>\n      <td>female</td>\n      <td>group E</td>\n      <td>70.811594</td>\n      <td>75.840580</td>\n    </tr>\n    <tr>\n      <th>5</th>\n      <td>male</td>\n      <td>group A</td>\n      <td>63.735849</td>\n      <td>61.735849</td>\n    </tr>\n    <tr>\n      <th>6</th>\n      <td>male</td>\n      <td>group B</td>\n      <td>65.930233</td>\n      <td>62.848837</td>\n    </tr>\n    <tr>\n      <th>7</th>\n      <td>male</td>\n      <td>group C</td>\n      <td>67.611511</td>\n      <td>65.424460</td>\n    </tr>\n    <tr>\n      <th>8</th>\n      <td>male</td>\n      <td>group D</td>\n      <td>69.413534</td>\n      <td>66.135338</td>\n    </tr>\n    <tr>\n      <th>9</th>\n      <td>male</td>\n      <td>group E</td>\n      <td>76.746479</td>\n      <td>70.295775</td>\n    </tr>\n  </tbody>\n</table>\n</div>"
     },
     "execution_count": 13,
     "metadata": {},
     "output_type": "execute_result"
    }
   ],
   "source": [
    "student_performance.groupby([\"gender\",\"race/ethnicity\"], as_index=False)\\\n",
    "    .aggregate({\"math_score\": \"mean\", \"reading_score\":\"mean\"})\\\n",
    "    .rename(columns={\n",
    "    \"math_score\":\"mean_math_score\",\n",
    "    \"reading_score\": \"mean_reading_score\"\n",
    "    })"
   ],
   "metadata": {
    "collapsed": false,
    "pycharm": {
     "name": "#%%\n"
    }
   }
  },
  {
   "cell_type": "code",
   "execution_count": 20,
   "outputs": [
    {
     "data": {
      "text/plain": "gender  race/ethnicity\nfemale  group A           29\n        group B           51\n        group C           59\n        group D           53\n        group E           44\nmale    group A           38\n        group B           43\n        group C           56\n        group D           49\n        group E           38\nName: math_score, dtype: int64"
     },
     "execution_count": 20,
     "metadata": {},
     "output_type": "execute_result"
    }
   ],
   "source": [
    "student_performance.groupby(['gender','race/ethnicity']).math_score.nunique()"
   ],
   "metadata": {
    "collapsed": false,
    "pycharm": {
     "name": "#%%\n"
    }
   }
  },
  {
   "cell_type": "code",
   "execution_count": 25,
   "outputs": [
    {
     "data": {
      "text/plain": "     gender race/ethnicity parental_level_of_education         lunch  \\\n149    male        group E          associate's degree  free/reduced   \n623    male        group A                some college      standard   \n625    male        group D                some college      standard   \n916    male        group E           bachelor's degree      standard   \n306    male        group E                some college      standard   \n451  female        group E                some college      standard   \n458  female        group E           bachelor's degree      standard   \n962  female        group E          associate's degree      standard   \n114  female        group E           bachelor's degree      standard   \n263  female        group E                 high school      standard   \n\n    test_preparation_course  math_score  reading_score  writing_score  \n149               completed         100            100             93  \n623               completed         100             96             86  \n625               completed         100             97             99  \n916               completed         100            100            100  \n306               completed          99             87             81  \n451                    none         100             92             97  \n458                    none         100            100            100  \n962                    none         100            100            100  \n114               completed          99            100            100  \n263                    none          99             93             90  ",
      "text/html": "<div>\n<style scoped>\n    .dataframe tbody tr th:only-of-type {\n        vertical-align: middle;\n    }\n\n    .dataframe tbody tr th {\n        vertical-align: top;\n    }\n\n    .dataframe thead th {\n        text-align: right;\n    }\n</style>\n<table border=\"1\" class=\"dataframe\">\n  <thead>\n    <tr style=\"text-align: right;\">\n      <th></th>\n      <th>gender</th>\n      <th>race/ethnicity</th>\n      <th>parental_level_of_education</th>\n      <th>lunch</th>\n      <th>test_preparation_course</th>\n      <th>math_score</th>\n      <th>reading_score</th>\n      <th>writing_score</th>\n    </tr>\n  </thead>\n  <tbody>\n    <tr>\n      <th>149</th>\n      <td>male</td>\n      <td>group E</td>\n      <td>associate's degree</td>\n      <td>free/reduced</td>\n      <td>completed</td>\n      <td>100</td>\n      <td>100</td>\n      <td>93</td>\n    </tr>\n    <tr>\n      <th>623</th>\n      <td>male</td>\n      <td>group A</td>\n      <td>some college</td>\n      <td>standard</td>\n      <td>completed</td>\n      <td>100</td>\n      <td>96</td>\n      <td>86</td>\n    </tr>\n    <tr>\n      <th>625</th>\n      <td>male</td>\n      <td>group D</td>\n      <td>some college</td>\n      <td>standard</td>\n      <td>completed</td>\n      <td>100</td>\n      <td>97</td>\n      <td>99</td>\n    </tr>\n    <tr>\n      <th>916</th>\n      <td>male</td>\n      <td>group E</td>\n      <td>bachelor's degree</td>\n      <td>standard</td>\n      <td>completed</td>\n      <td>100</td>\n      <td>100</td>\n      <td>100</td>\n    </tr>\n    <tr>\n      <th>306</th>\n      <td>male</td>\n      <td>group E</td>\n      <td>some college</td>\n      <td>standard</td>\n      <td>completed</td>\n      <td>99</td>\n      <td>87</td>\n      <td>81</td>\n    </tr>\n    <tr>\n      <th>451</th>\n      <td>female</td>\n      <td>group E</td>\n      <td>some college</td>\n      <td>standard</td>\n      <td>none</td>\n      <td>100</td>\n      <td>92</td>\n      <td>97</td>\n    </tr>\n    <tr>\n      <th>458</th>\n      <td>female</td>\n      <td>group E</td>\n      <td>bachelor's degree</td>\n      <td>standard</td>\n      <td>none</td>\n      <td>100</td>\n      <td>100</td>\n      <td>100</td>\n    </tr>\n    <tr>\n      <th>962</th>\n      <td>female</td>\n      <td>group E</td>\n      <td>associate's degree</td>\n      <td>standard</td>\n      <td>none</td>\n      <td>100</td>\n      <td>100</td>\n      <td>100</td>\n    </tr>\n    <tr>\n      <th>114</th>\n      <td>female</td>\n      <td>group E</td>\n      <td>bachelor's degree</td>\n      <td>standard</td>\n      <td>completed</td>\n      <td>99</td>\n      <td>100</td>\n      <td>100</td>\n    </tr>\n    <tr>\n      <th>263</th>\n      <td>female</td>\n      <td>group E</td>\n      <td>high school</td>\n      <td>standard</td>\n      <td>none</td>\n      <td>99</td>\n      <td>93</td>\n      <td>90</td>\n    </tr>\n  </tbody>\n</table>\n</div>"
     },
     "execution_count": 25,
     "metadata": {},
     "output_type": "execute_result"
    }
   ],
   "source": [
    "student_performance.sort_values([\"gender\",\"math_score\"], ascending=False)\\\n",
    "    .groupby(\"gender\").head(5)"
   ],
   "metadata": {
    "collapsed": false,
    "pycharm": {
     "name": "#%%\n"
    }
   }
  },
  {
   "cell_type": "code",
   "execution_count": 27,
   "outputs": [],
   "source": [
    "student_performance[\"total_score\"] =student_performance.math_score + student_performance.writing_score + student_performance.reading_score"
   ],
   "metadata": {
    "collapsed": false,
    "pycharm": {
     "name": "#%%\n"
    }
   }
  },
  {
   "cell_type": "code",
   "execution_count": 26,
   "outputs": [
    {
     "data": {
      "text/plain": "0      218\n1      247\n2      278\n3      148\n4      229\n      ... \n995    282\n996    172\n997    195\n998    223\n999    249\nLength: 1000, dtype: int64"
     },
     "execution_count": 26,
     "metadata": {},
     "output_type": "execute_result"
    }
   ],
   "source": [
    "student_performance.math_score + student_performance.writing_score + student_performance.reading_score"
   ],
   "metadata": {
    "collapsed": false,
    "pycharm": {
     "name": "#%%\n"
    }
   }
  },
  {
   "cell_type": "code",
   "execution_count": 28,
   "outputs": [
    {
     "data": {
      "text/plain": "   gender race/ethnicity parental_level_of_education         lunch  \\\n0  female        group B           bachelor's degree      standard   \n1  female        group C                some college      standard   \n2  female        group B             master's degree      standard   \n3    male        group A          associate's degree  free/reduced   \n4    male        group C                some college      standard   \n\n  test_preparation_course  math_score  reading_score  writing_score  \\\n0                    none          72             72             74   \n1               completed          69             90             88   \n2                    none          90             95             93   \n3                    none          47             57             44   \n4                    none          76             78             75   \n\n   total_score  \n0          218  \n1          247  \n2          278  \n3          148  \n4          229  ",
      "text/html": "<div>\n<style scoped>\n    .dataframe tbody tr th:only-of-type {\n        vertical-align: middle;\n    }\n\n    .dataframe tbody tr th {\n        vertical-align: top;\n    }\n\n    .dataframe thead th {\n        text-align: right;\n    }\n</style>\n<table border=\"1\" class=\"dataframe\">\n  <thead>\n    <tr style=\"text-align: right;\">\n      <th></th>\n      <th>gender</th>\n      <th>race/ethnicity</th>\n      <th>parental_level_of_education</th>\n      <th>lunch</th>\n      <th>test_preparation_course</th>\n      <th>math_score</th>\n      <th>reading_score</th>\n      <th>writing_score</th>\n      <th>total_score</th>\n    </tr>\n  </thead>\n  <tbody>\n    <tr>\n      <th>0</th>\n      <td>female</td>\n      <td>group B</td>\n      <td>bachelor's degree</td>\n      <td>standard</td>\n      <td>none</td>\n      <td>72</td>\n      <td>72</td>\n      <td>74</td>\n      <td>218</td>\n    </tr>\n    <tr>\n      <th>1</th>\n      <td>female</td>\n      <td>group C</td>\n      <td>some college</td>\n      <td>standard</td>\n      <td>completed</td>\n      <td>69</td>\n      <td>90</td>\n      <td>88</td>\n      <td>247</td>\n    </tr>\n    <tr>\n      <th>2</th>\n      <td>female</td>\n      <td>group B</td>\n      <td>master's degree</td>\n      <td>standard</td>\n      <td>none</td>\n      <td>90</td>\n      <td>95</td>\n      <td>93</td>\n      <td>278</td>\n    </tr>\n    <tr>\n      <th>3</th>\n      <td>male</td>\n      <td>group A</td>\n      <td>associate's degree</td>\n      <td>free/reduced</td>\n      <td>none</td>\n      <td>47</td>\n      <td>57</td>\n      <td>44</td>\n      <td>148</td>\n    </tr>\n    <tr>\n      <th>4</th>\n      <td>male</td>\n      <td>group C</td>\n      <td>some college</td>\n      <td>standard</td>\n      <td>none</td>\n      <td>76</td>\n      <td>78</td>\n      <td>75</td>\n      <td>229</td>\n    </tr>\n  </tbody>\n</table>\n</div>"
     },
     "execution_count": 28,
     "metadata": {},
     "output_type": "execute_result"
    }
   ],
   "source": [
    "student_performance.head()"
   ],
   "metadata": {
    "collapsed": false,
    "pycharm": {
     "name": "#%%\n"
    }
   }
  },
  {
   "cell_type": "code",
   "execution_count": 30,
   "outputs": [
    {
     "data": {
      "text/plain": "   gender race/ethnicity parental_level_of_education         lunch  \\\n0  female        group B           bachelor's degree      standard   \n1  female        group C                some college      standard   \n2  female        group B             master's degree      standard   \n3    male        group A          associate's degree  free/reduced   \n4    male        group C                some college      standard   \n\n  test_preparation_course  math_score  reading_score  writing_score  \\\n0                    none          72             72             74   \n1               completed          69             90             88   \n2                    none          90             95             93   \n3                    none          47             57             44   \n4                    none          76             78             75   \n\n   total_score  total_score_log  \n0          218         5.384495  \n1          247         5.509388  \n2          278         5.627621  \n3          148         4.997212  \n4          229         5.433722  ",
      "text/html": "<div>\n<style scoped>\n    .dataframe tbody tr th:only-of-type {\n        vertical-align: middle;\n    }\n\n    .dataframe tbody tr th {\n        vertical-align: top;\n    }\n\n    .dataframe thead th {\n        text-align: right;\n    }\n</style>\n<table border=\"1\" class=\"dataframe\">\n  <thead>\n    <tr style=\"text-align: right;\">\n      <th></th>\n      <th>gender</th>\n      <th>race/ethnicity</th>\n      <th>parental_level_of_education</th>\n      <th>lunch</th>\n      <th>test_preparation_course</th>\n      <th>math_score</th>\n      <th>reading_score</th>\n      <th>writing_score</th>\n      <th>total_score</th>\n      <th>total_score_log</th>\n    </tr>\n  </thead>\n  <tbody>\n    <tr>\n      <th>0</th>\n      <td>female</td>\n      <td>group B</td>\n      <td>bachelor's degree</td>\n      <td>standard</td>\n      <td>none</td>\n      <td>72</td>\n      <td>72</td>\n      <td>74</td>\n      <td>218</td>\n      <td>5.384495</td>\n    </tr>\n    <tr>\n      <th>1</th>\n      <td>female</td>\n      <td>group C</td>\n      <td>some college</td>\n      <td>standard</td>\n      <td>completed</td>\n      <td>69</td>\n      <td>90</td>\n      <td>88</td>\n      <td>247</td>\n      <td>5.509388</td>\n    </tr>\n    <tr>\n      <th>2</th>\n      <td>female</td>\n      <td>group B</td>\n      <td>master's degree</td>\n      <td>standard</td>\n      <td>none</td>\n      <td>90</td>\n      <td>95</td>\n      <td>93</td>\n      <td>278</td>\n      <td>5.627621</td>\n    </tr>\n    <tr>\n      <th>3</th>\n      <td>male</td>\n      <td>group A</td>\n      <td>associate's degree</td>\n      <td>free/reduced</td>\n      <td>none</td>\n      <td>47</td>\n      <td>57</td>\n      <td>44</td>\n      <td>148</td>\n      <td>4.997212</td>\n    </tr>\n    <tr>\n      <th>4</th>\n      <td>male</td>\n      <td>group C</td>\n      <td>some college</td>\n      <td>standard</td>\n      <td>none</td>\n      <td>76</td>\n      <td>78</td>\n      <td>75</td>\n      <td>229</td>\n      <td>5.433722</td>\n    </tr>\n  </tbody>\n</table>\n</div>"
     },
     "execution_count": 30,
     "metadata": {},
     "output_type": "execute_result"
    }
   ],
   "source": [
    "student_performance = student_performance.assign(total_score_log = np.log(student_performance.total_score))\n",
    "student_performance.head()"
   ],
   "metadata": {
    "collapsed": false,
    "pycharm": {
     "name": "#%%\n"
    }
   }
  },
  {
   "cell_type": "code",
   "execution_count": 33,
   "outputs": [
    {
     "data": {
      "text/plain": "     gender race/ethnicity parental_level_of_education  \\\n0    female        group B           bachelor's degree   \n1    female        group C                some college   \n2    female        group B             master's degree   \n3      male        group A          associate's degree   \n4      male        group C                some college   \n..      ...            ...                         ...   \n995  female        group E             master's degree   \n996    male        group C                 high school   \n997  female        group C                 high school   \n998  female        group D                some college   \n999  female        group D                some college   \n\n    test_preparation_course  math_score  reading_score  writing_score  \\\n0                      none          72             72             74   \n1                 completed          69             90             88   \n2                      none          90             95             93   \n3                      none          47             57             44   \n4                      none          76             78             75   \n..                      ...         ...            ...            ...   \n995               completed          88             99             95   \n996                    none          62             55             55   \n997               completed          59             71             65   \n998               completed          68             78             77   \n999                    none          77             86             86   \n\n     total_score_log  \n0           5.384495  \n1           5.509388  \n2           5.627621  \n3           4.997212  \n4           5.433722  \n..               ...  \n995         5.641907  \n996         5.147494  \n997         5.273000  \n998         5.407172  \n999         5.517453  \n\n[1000 rows x 8 columns]",
      "text/html": "<div>\n<style scoped>\n    .dataframe tbody tr th:only-of-type {\n        vertical-align: middle;\n    }\n\n    .dataframe tbody tr th {\n        vertical-align: top;\n    }\n\n    .dataframe thead th {\n        text-align: right;\n    }\n</style>\n<table border=\"1\" class=\"dataframe\">\n  <thead>\n    <tr style=\"text-align: right;\">\n      <th></th>\n      <th>gender</th>\n      <th>race/ethnicity</th>\n      <th>parental_level_of_education</th>\n      <th>test_preparation_course</th>\n      <th>math_score</th>\n      <th>reading_score</th>\n      <th>writing_score</th>\n      <th>total_score_log</th>\n    </tr>\n  </thead>\n  <tbody>\n    <tr>\n      <th>0</th>\n      <td>female</td>\n      <td>group B</td>\n      <td>bachelor's degree</td>\n      <td>none</td>\n      <td>72</td>\n      <td>72</td>\n      <td>74</td>\n      <td>5.384495</td>\n    </tr>\n    <tr>\n      <th>1</th>\n      <td>female</td>\n      <td>group C</td>\n      <td>some college</td>\n      <td>completed</td>\n      <td>69</td>\n      <td>90</td>\n      <td>88</td>\n      <td>5.509388</td>\n    </tr>\n    <tr>\n      <th>2</th>\n      <td>female</td>\n      <td>group B</td>\n      <td>master's degree</td>\n      <td>none</td>\n      <td>90</td>\n      <td>95</td>\n      <td>93</td>\n      <td>5.627621</td>\n    </tr>\n    <tr>\n      <th>3</th>\n      <td>male</td>\n      <td>group A</td>\n      <td>associate's degree</td>\n      <td>none</td>\n      <td>47</td>\n      <td>57</td>\n      <td>44</td>\n      <td>4.997212</td>\n    </tr>\n    <tr>\n      <th>4</th>\n      <td>male</td>\n      <td>group C</td>\n      <td>some college</td>\n      <td>none</td>\n      <td>76</td>\n      <td>78</td>\n      <td>75</td>\n      <td>5.433722</td>\n    </tr>\n    <tr>\n      <th>...</th>\n      <td>...</td>\n      <td>...</td>\n      <td>...</td>\n      <td>...</td>\n      <td>...</td>\n      <td>...</td>\n      <td>...</td>\n      <td>...</td>\n    </tr>\n    <tr>\n      <th>995</th>\n      <td>female</td>\n      <td>group E</td>\n      <td>master's degree</td>\n      <td>completed</td>\n      <td>88</td>\n      <td>99</td>\n      <td>95</td>\n      <td>5.641907</td>\n    </tr>\n    <tr>\n      <th>996</th>\n      <td>male</td>\n      <td>group C</td>\n      <td>high school</td>\n      <td>none</td>\n      <td>62</td>\n      <td>55</td>\n      <td>55</td>\n      <td>5.147494</td>\n    </tr>\n    <tr>\n      <th>997</th>\n      <td>female</td>\n      <td>group C</td>\n      <td>high school</td>\n      <td>completed</td>\n      <td>59</td>\n      <td>71</td>\n      <td>65</td>\n      <td>5.273000</td>\n    </tr>\n    <tr>\n      <th>998</th>\n      <td>female</td>\n      <td>group D</td>\n      <td>some college</td>\n      <td>completed</td>\n      <td>68</td>\n      <td>78</td>\n      <td>77</td>\n      <td>5.407172</td>\n    </tr>\n    <tr>\n      <th>999</th>\n      <td>female</td>\n      <td>group D</td>\n      <td>some college</td>\n      <td>none</td>\n      <td>77</td>\n      <td>86</td>\n      <td>86</td>\n      <td>5.517453</td>\n    </tr>\n  </tbody>\n</table>\n<p>1000 rows × 8 columns</p>\n</div>"
     },
     "execution_count": 33,
     "metadata": {},
     "output_type": "execute_result"
    }
   ],
   "source": [
    "student_performance.drop([\"total_score\",\"lunch\"],axis=1)\n",
    "\n"
   ],
   "metadata": {
    "collapsed": false,
    "pycharm": {
     "name": "#%%\n"
    }
   }
  }
 ],
 "metadata": {
  "kernelspec": {
   "display_name": "Python 3",
   "language": "python",
   "name": "python3"
  },
  "language_info": {
   "codemirror_mode": {
    "name": "ipython",
    "version": 2
   },
   "file_extension": ".py",
   "mimetype": "text/x-python",
   "name": "python",
   "nbconvert_exporter": "python",
   "pygments_lexer": "ipython2",
   "version": "2.7.6"
  }
 },
 "nbformat": 4,
 "nbformat_minor": 0
}