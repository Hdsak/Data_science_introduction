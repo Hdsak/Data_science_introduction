{
 "cells": [
  {
   "cell_type": "code",
   "execution_count": 10,
   "metadata": {
    "collapsed": true
   },
   "outputs": [],
   "source": [
    "from sklearn import tree\n",
    "import pandas as pd\n",
    "import numpy as np\n",
    "import seaborn as sns\n",
    "import matplotlib.pyplot as plt\n",
    "%matplotlib inline"
   ]
  },
  {
   "cell_type": "code",
   "execution_count": 11,
   "outputs": [
    {
     "data": {
      "text/plain": "     Длина  Высота  Шерстист  Гавкает  Лазает по деревьям      Вид\n0       15    18.0         1        1                   0  собачка\n1       20    24.0         1        0                   0  собачка\n2       34    40.8         1        1                   0  собачка\n3       26    31.2         1        1                   0  собачка\n4       16    19.2         1        1                   0  собачка\n..     ...     ...       ...      ...                 ...      ...\n995      8     3.2         1        0                   1    котик\n996      7     2.8         1        0                   1    котик\n997      6     2.4         1        0                   1    котик\n998      7     2.8         1        0                   1    котик\n999     11     4.4         1        0                   1    котик\n\n[1000 rows x 6 columns]",
      "text/html": "<div>\n<style scoped>\n    .dataframe tbody tr th:only-of-type {\n        vertical-align: middle;\n    }\n\n    .dataframe tbody tr th {\n        vertical-align: top;\n    }\n\n    .dataframe thead th {\n        text-align: right;\n    }\n</style>\n<table border=\"1\" class=\"dataframe\">\n  <thead>\n    <tr style=\"text-align: right;\">\n      <th></th>\n      <th>Длина</th>\n      <th>Высота</th>\n      <th>Шерстист</th>\n      <th>Гавкает</th>\n      <th>Лазает по деревьям</th>\n      <th>Вид</th>\n    </tr>\n  </thead>\n  <tbody>\n    <tr>\n      <th>0</th>\n      <td>15</td>\n      <td>18.0</td>\n      <td>1</td>\n      <td>1</td>\n      <td>0</td>\n      <td>собачка</td>\n    </tr>\n    <tr>\n      <th>1</th>\n      <td>20</td>\n      <td>24.0</td>\n      <td>1</td>\n      <td>0</td>\n      <td>0</td>\n      <td>собачка</td>\n    </tr>\n    <tr>\n      <th>2</th>\n      <td>34</td>\n      <td>40.8</td>\n      <td>1</td>\n      <td>1</td>\n      <td>0</td>\n      <td>собачка</td>\n    </tr>\n    <tr>\n      <th>3</th>\n      <td>26</td>\n      <td>31.2</td>\n      <td>1</td>\n      <td>1</td>\n      <td>0</td>\n      <td>собачка</td>\n    </tr>\n    <tr>\n      <th>4</th>\n      <td>16</td>\n      <td>19.2</td>\n      <td>1</td>\n      <td>1</td>\n      <td>0</td>\n      <td>собачка</td>\n    </tr>\n    <tr>\n      <th>...</th>\n      <td>...</td>\n      <td>...</td>\n      <td>...</td>\n      <td>...</td>\n      <td>...</td>\n      <td>...</td>\n    </tr>\n    <tr>\n      <th>995</th>\n      <td>8</td>\n      <td>3.2</td>\n      <td>1</td>\n      <td>0</td>\n      <td>1</td>\n      <td>котик</td>\n    </tr>\n    <tr>\n      <th>996</th>\n      <td>7</td>\n      <td>2.8</td>\n      <td>1</td>\n      <td>0</td>\n      <td>1</td>\n      <td>котик</td>\n    </tr>\n    <tr>\n      <th>997</th>\n      <td>6</td>\n      <td>2.4</td>\n      <td>1</td>\n      <td>0</td>\n      <td>1</td>\n      <td>котик</td>\n    </tr>\n    <tr>\n      <th>998</th>\n      <td>7</td>\n      <td>2.8</td>\n      <td>1</td>\n      <td>0</td>\n      <td>1</td>\n      <td>котик</td>\n    </tr>\n    <tr>\n      <th>999</th>\n      <td>11</td>\n      <td>4.4</td>\n      <td>1</td>\n      <td>0</td>\n      <td>1</td>\n      <td>котик</td>\n    </tr>\n  </tbody>\n</table>\n<p>1000 rows × 6 columns</p>\n</div>"
     },
     "execution_count": 11,
     "metadata": {},
     "output_type": "execute_result"
    }
   ],
   "source": [
    "\n",
    "data_train = pd.read_csv('https://stepik.org/media/attachments/course/4852/dogs_n_cats.csv')\n",
    "data_train"
   ],
   "metadata": {
    "collapsed": false,
    "pycharm": {
     "name": "#%%\n"
    }
   }
  },
  {
   "cell_type": "code",
   "execution_count": 12,
   "outputs": [
    {
     "data": {
      "text/plain": "         Вид\n0    собачка\n1    собачка\n2    собачка\n3    собачка\n4    собачка\n..       ...\n995    котик\n996    котик\n997    котик\n998    котик\n999    котик\n\n[1000 rows x 1 columns]",
      "text/html": "<div>\n<style scoped>\n    .dataframe tbody tr th:only-of-type {\n        vertical-align: middle;\n    }\n\n    .dataframe tbody tr th {\n        vertical-align: top;\n    }\n\n    .dataframe thead th {\n        text-align: right;\n    }\n</style>\n<table border=\"1\" class=\"dataframe\">\n  <thead>\n    <tr style=\"text-align: right;\">\n      <th></th>\n      <th>Вид</th>\n    </tr>\n  </thead>\n  <tbody>\n    <tr>\n      <th>0</th>\n      <td>собачка</td>\n    </tr>\n    <tr>\n      <th>1</th>\n      <td>собачка</td>\n    </tr>\n    <tr>\n      <th>2</th>\n      <td>собачка</td>\n    </tr>\n    <tr>\n      <th>3</th>\n      <td>собачка</td>\n    </tr>\n    <tr>\n      <th>4</th>\n      <td>собачка</td>\n    </tr>\n    <tr>\n      <th>...</th>\n      <td>...</td>\n    </tr>\n    <tr>\n      <th>995</th>\n      <td>котик</td>\n    </tr>\n    <tr>\n      <th>996</th>\n      <td>котик</td>\n    </tr>\n    <tr>\n      <th>997</th>\n      <td>котик</td>\n    </tr>\n    <tr>\n      <th>998</th>\n      <td>котик</td>\n    </tr>\n    <tr>\n      <th>999</th>\n      <td>котик</td>\n    </tr>\n  </tbody>\n</table>\n<p>1000 rows × 1 columns</p>\n</div>"
     },
     "execution_count": 12,
     "metadata": {},
     "output_type": "execute_result"
    }
   ],
   "source": [
    "y_train = data_train[[\"Вид\"]]\n",
    "y_train"
   ],
   "metadata": {
    "collapsed": false,
    "pycharm": {
     "name": "#%%\n"
    }
   }
  },
  {
   "cell_type": "code",
   "execution_count": 13,
   "outputs": [
    {
     "data": {
      "text/plain": "     Длина  Высота  Шерстист  Гавкает  Лазает по деревьям\n0       15    18.0         1        1                   0\n1       20    24.0         1        0                   0\n2       34    40.8         1        1                   0\n3       26    31.2         1        1                   0\n4       16    19.2         1        1                   0\n..     ...     ...       ...      ...                 ...\n995      8     3.2         1        0                   1\n996      7     2.8         1        0                   1\n997      6     2.4         1        0                   1\n998      7     2.8         1        0                   1\n999     11     4.4         1        0                   1\n\n[1000 rows x 5 columns]",
      "text/html": "<div>\n<style scoped>\n    .dataframe tbody tr th:only-of-type {\n        vertical-align: middle;\n    }\n\n    .dataframe tbody tr th {\n        vertical-align: top;\n    }\n\n    .dataframe thead th {\n        text-align: right;\n    }\n</style>\n<table border=\"1\" class=\"dataframe\">\n  <thead>\n    <tr style=\"text-align: right;\">\n      <th></th>\n      <th>Длина</th>\n      <th>Высота</th>\n      <th>Шерстист</th>\n      <th>Гавкает</th>\n      <th>Лазает по деревьям</th>\n    </tr>\n  </thead>\n  <tbody>\n    <tr>\n      <th>0</th>\n      <td>15</td>\n      <td>18.0</td>\n      <td>1</td>\n      <td>1</td>\n      <td>0</td>\n    </tr>\n    <tr>\n      <th>1</th>\n      <td>20</td>\n      <td>24.0</td>\n      <td>1</td>\n      <td>0</td>\n      <td>0</td>\n    </tr>\n    <tr>\n      <th>2</th>\n      <td>34</td>\n      <td>40.8</td>\n      <td>1</td>\n      <td>1</td>\n      <td>0</td>\n    </tr>\n    <tr>\n      <th>3</th>\n      <td>26</td>\n      <td>31.2</td>\n      <td>1</td>\n      <td>1</td>\n      <td>0</td>\n    </tr>\n    <tr>\n      <th>4</th>\n      <td>16</td>\n      <td>19.2</td>\n      <td>1</td>\n      <td>1</td>\n      <td>0</td>\n    </tr>\n    <tr>\n      <th>...</th>\n      <td>...</td>\n      <td>...</td>\n      <td>...</td>\n      <td>...</td>\n      <td>...</td>\n    </tr>\n    <tr>\n      <th>995</th>\n      <td>8</td>\n      <td>3.2</td>\n      <td>1</td>\n      <td>0</td>\n      <td>1</td>\n    </tr>\n    <tr>\n      <th>996</th>\n      <td>7</td>\n      <td>2.8</td>\n      <td>1</td>\n      <td>0</td>\n      <td>1</td>\n    </tr>\n    <tr>\n      <th>997</th>\n      <td>6</td>\n      <td>2.4</td>\n      <td>1</td>\n      <td>0</td>\n      <td>1</td>\n    </tr>\n    <tr>\n      <th>998</th>\n      <td>7</td>\n      <td>2.8</td>\n      <td>1</td>\n      <td>0</td>\n      <td>1</td>\n    </tr>\n    <tr>\n      <th>999</th>\n      <td>11</td>\n      <td>4.4</td>\n      <td>1</td>\n      <td>0</td>\n      <td>1</td>\n    </tr>\n  </tbody>\n</table>\n<p>1000 rows × 5 columns</p>\n</div>"
     },
     "execution_count": 13,
     "metadata": {},
     "output_type": "execute_result"
    }
   ],
   "source": [
    "x_train = data_train.drop(\"Вид\", axis = 1)\n",
    "x_train"
   ],
   "metadata": {
    "collapsed": false,
    "pycharm": {
     "name": "#%%\n"
    }
   }
  },
  {
   "cell_type": "code",
   "execution_count": 15,
   "outputs": [
    {
     "data": {
      "text/plain": "1.0"
     },
     "execution_count": 15,
     "metadata": {},
     "output_type": "execute_result"
    }
   ],
   "source": [
    "rs = np.random.seed(0)\n",
    "clf = tree.DecisionTreeClassifier(criterion='entropy',max_depth=5, random_state=rs)\n",
    "clf.fit(x_train, y_train)\n",
    "train_score = clf.score(x_train, y_train)\n",
    "train_score"
   ],
   "metadata": {
    "collapsed": false,
    "pycharm": {
     "name": "#%%\n"
    }
   }
  },
  {
   "cell_type": "code",
   "execution_count": 16,
   "outputs": [
    {
     "data": {
      "text/plain": "    Длина  Высота  Шерстист  Гавкает  Лазает по деревьям\n0      29    34.8         1        1                   0\n1      20    24.0         1        1                   0\n2      25    30.0         1        1                   0\n3      33    39.6         1        0                   0\n4      31    37.2         1        1                   0\n..    ...     ...       ...      ...                 ...\n95      8     3.2         1        0                   1\n96      8     3.2         1        0                   1\n97      5     2.0         1        0                   1\n98      9     3.6         1        0                   1\n99     14     5.6         0        0                   1\n\n[100 rows x 5 columns]",
      "text/html": "<div>\n<style scoped>\n    .dataframe tbody tr th:only-of-type {\n        vertical-align: middle;\n    }\n\n    .dataframe tbody tr th {\n        vertical-align: top;\n    }\n\n    .dataframe thead th {\n        text-align: right;\n    }\n</style>\n<table border=\"1\" class=\"dataframe\">\n  <thead>\n    <tr style=\"text-align: right;\">\n      <th></th>\n      <th>Длина</th>\n      <th>Высота</th>\n      <th>Шерстист</th>\n      <th>Гавкает</th>\n      <th>Лазает по деревьям</th>\n    </tr>\n  </thead>\n  <tbody>\n    <tr>\n      <th>0</th>\n      <td>29</td>\n      <td>34.8</td>\n      <td>1</td>\n      <td>1</td>\n      <td>0</td>\n    </tr>\n    <tr>\n      <th>1</th>\n      <td>20</td>\n      <td>24.0</td>\n      <td>1</td>\n      <td>1</td>\n      <td>0</td>\n    </tr>\n    <tr>\n      <th>2</th>\n      <td>25</td>\n      <td>30.0</td>\n      <td>1</td>\n      <td>1</td>\n      <td>0</td>\n    </tr>\n    <tr>\n      <th>3</th>\n      <td>33</td>\n      <td>39.6</td>\n      <td>1</td>\n      <td>0</td>\n      <td>0</td>\n    </tr>\n    <tr>\n      <th>4</th>\n      <td>31</td>\n      <td>37.2</td>\n      <td>1</td>\n      <td>1</td>\n      <td>0</td>\n    </tr>\n    <tr>\n      <th>...</th>\n      <td>...</td>\n      <td>...</td>\n      <td>...</td>\n      <td>...</td>\n      <td>...</td>\n    </tr>\n    <tr>\n      <th>95</th>\n      <td>8</td>\n      <td>3.2</td>\n      <td>1</td>\n      <td>0</td>\n      <td>1</td>\n    </tr>\n    <tr>\n      <th>96</th>\n      <td>8</td>\n      <td>3.2</td>\n      <td>1</td>\n      <td>0</td>\n      <td>1</td>\n    </tr>\n    <tr>\n      <th>97</th>\n      <td>5</td>\n      <td>2.0</td>\n      <td>1</td>\n      <td>0</td>\n      <td>1</td>\n    </tr>\n    <tr>\n      <th>98</th>\n      <td>9</td>\n      <td>3.6</td>\n      <td>1</td>\n      <td>0</td>\n      <td>1</td>\n    </tr>\n    <tr>\n      <th>99</th>\n      <td>14</td>\n      <td>5.6</td>\n      <td>0</td>\n      <td>0</td>\n      <td>1</td>\n    </tr>\n  </tbody>\n</table>\n<p>100 rows × 5 columns</p>\n</div>"
     },
     "execution_count": 16,
     "metadata": {},
     "output_type": "execute_result"
    }
   ],
   "source": [
    "x_test = pd.read_json(\"ds_part_2.4.txt\")\n",
    "x_test"
   ],
   "metadata": {
    "collapsed": false,
    "pycharm": {
     "name": "#%%\n"
    }
   }
  },
  {
   "cell_type": "code",
   "execution_count": 17,
   "outputs": [
    {
     "data": {
      "text/plain": "41"
     },
     "execution_count": 17,
     "metadata": {},
     "output_type": "execute_result"
    }
   ],
   "source": [
    "hh = clf.predict(x_test)\n",
    "l = list(hh)\n",
    "l.count('собачка')"
   ],
   "metadata": {
    "collapsed": false,
    "pycharm": {
     "name": "#%%\n"
    }
   }
  },
  {
   "cell_type": "code",
   "execution_count": 18,
   "outputs": [
    {
     "data": {
      "text/plain": "array(['собачка', 'собачка', 'собачка', 'собачка', 'собачка', 'собачка',\n       'собачка', 'собачка', 'собачка', 'собачка', 'собачка', 'собачка',\n       'собачка', 'собачка', 'собачка', 'собачка', 'собачка', 'собачка',\n       'собачка', 'собачка', 'собачка', 'собачка', 'собачка', 'собачка',\n       'собачка', 'собачка', 'собачка', 'собачка', 'собачка', 'собачка',\n       'собачка', 'собачка', 'собачка', 'собачка', 'собачка', 'собачка',\n       'собачка', 'собачка', 'собачка', 'собачка', 'собачка', 'котик',\n       'котик', 'котик', 'котик', 'котик', 'котик', 'котик', 'котик',\n       'котик', 'котик', 'котик', 'котик', 'котик', 'котик', 'котик',\n       'котик', 'котик', 'котик', 'котик', 'котик', 'котик', 'котик',\n       'котик', 'котик', 'котик', 'котик', 'котик', 'котик', 'котик',\n       'котик', 'котик', 'котик', 'котик', 'котик', 'котик', 'котик',\n       'котик', 'котик', 'котик', 'котик', 'котик', 'котик', 'котик',\n       'котик', 'котик', 'котик', 'котик', 'котик', 'котик', 'котик',\n       'котик', 'котик', 'котик', 'котик', 'котик', 'котик', 'котик',\n       'котик', 'котик'], dtype=object)"
     },
     "execution_count": 18,
     "metadata": {},
     "output_type": "execute_result"
    }
   ],
   "source": [
    "hh"
   ],
   "metadata": {
    "collapsed": false,
    "pycharm": {
     "name": "#%%\n"
    }
   }
  }
 ],
 "metadata": {
  "kernelspec": {
   "display_name": "Python 3",
   "language": "python",
   "name": "python3"
  },
  "language_info": {
   "codemirror_mode": {
    "name": "ipython",
    "version": 2
   },
   "file_extension": ".py",
   "mimetype": "text/x-python",
   "name": "python",
   "nbconvert_exporter": "python",
   "pygments_lexer": "ipython2",
   "version": "2.7.6"
  }
 },
 "nbformat": 4,
 "nbformat_minor": 0
}