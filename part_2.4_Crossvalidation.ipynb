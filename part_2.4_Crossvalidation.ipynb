{
 "cells": [
  {
   "cell_type": "code",
   "execution_count": 1,
   "outputs": [],
   "source": [
    "import pandas as pd\n",
    "import numpy as np\n",
    "import seaborn as sns\n",
    "import matplotlib.pyplot as plt\n",
    "from sklearn import tree\n",
    "from sklearn.model_selection import cross_val_score\n"
   ],
   "metadata": {
    "collapsed": false,
    "pycharm": {
     "name": "#%%\n"
    }
   }
  },
  {
   "cell_type": "code",
   "execution_count": 2,
   "outputs": [
    {
     "data": {
      "text/plain": "   PassengerId  Survived  Pclass  \\\n0            1         0       3   \n1            2         1       1   \n2            3         1       3   \n3            4         1       1   \n4            5         0       3   \n\n                                                Name     Sex   Age  SibSp  \\\n0                            Braund, Mr. Owen Harris    male  22.0      1   \n1  Cumings, Mrs. John Bradley (Florence Briggs Th...  female  38.0      1   \n2                             Heikkinen, Miss. Laina  female  26.0      0   \n3       Futrelle, Mrs. Jacques Heath (Lily May Peel)  female  35.0      1   \n4                           Allen, Mr. William Henry    male  35.0      0   \n\n   Parch            Ticket     Fare Cabin Embarked  \n0      0         A/5 21171   7.2500   NaN        S  \n1      0          PC 17599  71.2833   C85        C  \n2      0  STON/O2. 3101282   7.9250   NaN        S  \n3      0            113803  53.1000  C123        S  \n4      0            373450   8.0500   NaN        S  ",
      "text/html": "<div>\n<style scoped>\n    .dataframe tbody tr th:only-of-type {\n        vertical-align: middle;\n    }\n\n    .dataframe tbody tr th {\n        vertical-align: top;\n    }\n\n    .dataframe thead th {\n        text-align: right;\n    }\n</style>\n<table border=\"1\" class=\"dataframe\">\n  <thead>\n    <tr style=\"text-align: right;\">\n      <th></th>\n      <th>PassengerId</th>\n      <th>Survived</th>\n      <th>Pclass</th>\n      <th>Name</th>\n      <th>Sex</th>\n      <th>Age</th>\n      <th>SibSp</th>\n      <th>Parch</th>\n      <th>Ticket</th>\n      <th>Fare</th>\n      <th>Cabin</th>\n      <th>Embarked</th>\n    </tr>\n  </thead>\n  <tbody>\n    <tr>\n      <th>0</th>\n      <td>1</td>\n      <td>0</td>\n      <td>3</td>\n      <td>Braund, Mr. Owen Harris</td>\n      <td>male</td>\n      <td>22.0</td>\n      <td>1</td>\n      <td>0</td>\n      <td>A/5 21171</td>\n      <td>7.2500</td>\n      <td>NaN</td>\n      <td>S</td>\n    </tr>\n    <tr>\n      <th>1</th>\n      <td>2</td>\n      <td>1</td>\n      <td>1</td>\n      <td>Cumings, Mrs. John Bradley (Florence Briggs Th...</td>\n      <td>female</td>\n      <td>38.0</td>\n      <td>1</td>\n      <td>0</td>\n      <td>PC 17599</td>\n      <td>71.2833</td>\n      <td>C85</td>\n      <td>C</td>\n    </tr>\n    <tr>\n      <th>2</th>\n      <td>3</td>\n      <td>1</td>\n      <td>3</td>\n      <td>Heikkinen, Miss. Laina</td>\n      <td>female</td>\n      <td>26.0</td>\n      <td>0</td>\n      <td>0</td>\n      <td>STON/O2. 3101282</td>\n      <td>7.9250</td>\n      <td>NaN</td>\n      <td>S</td>\n    </tr>\n    <tr>\n      <th>3</th>\n      <td>4</td>\n      <td>1</td>\n      <td>1</td>\n      <td>Futrelle, Mrs. Jacques Heath (Lily May Peel)</td>\n      <td>female</td>\n      <td>35.0</td>\n      <td>1</td>\n      <td>0</td>\n      <td>113803</td>\n      <td>53.1000</td>\n      <td>C123</td>\n      <td>S</td>\n    </tr>\n    <tr>\n      <th>4</th>\n      <td>5</td>\n      <td>0</td>\n      <td>3</td>\n      <td>Allen, Mr. William Henry</td>\n      <td>male</td>\n      <td>35.0</td>\n      <td>0</td>\n      <td>0</td>\n      <td>373450</td>\n      <td>8.0500</td>\n      <td>NaN</td>\n      <td>S</td>\n    </tr>\n  </tbody>\n</table>\n</div>"
     },
     "execution_count": 2,
     "metadata": {},
     "output_type": "execute_result"
    }
   ],
   "source": [
    "titanic_data = pd.read_csv(\"train.csv\")\n",
    "titanic_data.head()"
   ],
   "metadata": {
    "collapsed": false,
    "pycharm": {
     "name": "#%%\n"
    }
   }
  },
  {
   "cell_type": "code",
   "execution_count": 3,
   "outputs": [
    {
     "data": {
      "text/plain": "PassengerId      0\nSurvived         0\nPclass           0\nName             0\nSex              0\nAge            177\nSibSp            0\nParch            0\nTicket           0\nFare             0\nCabin          687\nEmbarked         2\ndtype: int64"
     },
     "execution_count": 3,
     "metadata": {},
     "output_type": "execute_result"
    }
   ],
   "source": [
    "titanic_data.isnull().sum()"
   ],
   "metadata": {
    "collapsed": false,
    "pycharm": {
     "name": "#%%\n"
    }
   }
  },
  {
   "cell_type": "code",
   "execution_count": 4,
   "outputs": [],
   "source": [
    "X = titanic_data.drop([\"PassengerId\",\"Survived\",\"Name\",\"Ticket\",\"Cabin\"],axis=1)\n",
    "y = titanic_data.Survived"
   ],
   "metadata": {
    "collapsed": false,
    "pycharm": {
     "name": "#%%\n"
    }
   }
  },
  {
   "cell_type": "code",
   "execution_count": 5,
   "outputs": [
    {
     "data": {
      "text/plain": "Pclass        0\nAge           0\nSibSp         0\nParch         0\nFare          0\nSex_female    0\nSex_male      0\nEmbarked_C    0\nEmbarked_Q    0\nEmbarked_S    0\ndtype: int64"
     },
     "execution_count": 5,
     "metadata": {},
     "output_type": "execute_result"
    }
   ],
   "source": [
    "X = pd.get_dummies(X)\n",
    "X = X.fillna({\"Age\":X.Age.median()})\n",
    "X.isnull().sum()"
   ],
   "metadata": {
    "collapsed": false,
    "pycharm": {
     "name": "#%%\n"
    }
   }
  },
  {
   "cell_type": "code",
   "execution_count": 6,
   "outputs": [],
   "source": [
    "clf = tree.DecisionTreeClassifier(criterion=\"entropy\")"
   ],
   "metadata": {
    "collapsed": false,
    "pycharm": {
     "name": "#%%\n"
    }
   }
  },
  {
   "cell_type": "code",
   "execution_count": 7,
   "outputs": [
    {
     "data": {
      "text/plain": "<Figure size 432x288 with 1 Axes>",
      "image/png": "[encoded data removed]"
     },
     "metadata": {
      "needs_background": "light"
     },
     "output_type": "display_data"
    }
   ],
   "source": [
    "clf.fit(X,y)\n",
    "tree.plot_tree(clf, feature_names=list(X),\n",
    "               class_names=['Died', 'Survived'],\n",
    "               filled=True);"
   ],
   "metadata": {
    "collapsed": false,
    "pycharm": {
     "name": "#%%\n"
    }
   }
  },
  {
   "cell_type": "code",
   "execution_count": 8,
   "outputs": [],
   "source": [
    "from sklearn.model_selection import train_test_split"
   ],
   "metadata": {
    "collapsed": false,
    "pycharm": {
     "name": "#%%\n"
    }
   }
  },
  {
   "cell_type": "code",
   "execution_count": 9,
   "outputs": [
    {
     "data": {
      "text/plain": "(596, 10)"
     },
     "execution_count": 9,
     "metadata": {},
     "output_type": "execute_result"
    }
   ],
   "source": [
    "X_train , X_test, y_train, y_test = train_test_split(X,y,test_size=0.33, random_state=42)\n",
    "X_train.shape"
   ],
   "metadata": {
    "collapsed": false,
    "pycharm": {
     "name": "#%%\n"
    }
   }
  },
  {
   "cell_type": "code",
   "execution_count": 9,
   "outputs": [],
   "source": [],
   "metadata": {
    "collapsed": false,
    "pycharm": {
     "name": "#%%\n"
    }
   }
  },
  {
   "cell_type": "code",
   "execution_count": 10,
   "outputs": [
    {
     "data": {
      "text/plain": "0.9798657718120806"
     },
     "execution_count": 10,
     "metadata": {},
     "output_type": "execute_result"
    }
   ],
   "source": [
    "clf.fit(X_train,y_train)\n",
    "clf.score(X_train,y_train)"
   ],
   "metadata": {
    "collapsed": false,
    "pycharm": {
     "name": "#%%\n"
    }
   }
  },
  {
   "cell_type": "code",
   "execution_count": 11,
   "outputs": [
    {
     "data": {
      "text/plain": "0.7796610169491526"
     },
     "execution_count": 11,
     "metadata": {},
     "output_type": "execute_result"
    }
   ],
   "source": [
    "clf.score(X_test,y_test)"
   ],
   "metadata": {
    "collapsed": false,
    "pycharm": {
     "name": "#%%\n"
    }
   }
  },
  {
   "cell_type": "code",
   "execution_count": 12,
   "outputs": [
    {
     "data": {
      "text/plain": "0.8238255033557047"
     },
     "execution_count": 12,
     "metadata": {},
     "output_type": "execute_result"
    }
   ],
   "source": [
    "clf = tree.DecisionTreeClassifier(criterion=\"entropy\", max_depth=3)\n",
    "clf.fit(X_train,y_train)\n",
    "clf.score(X_train,y_train)"
   ],
   "metadata": {
    "collapsed": false,
    "pycharm": {
     "name": "#%%\n"
    }
   }
  },
  {
   "cell_type": "code",
   "execution_count": 13,
   "outputs": [
    {
     "data": {
      "text/plain": "0.8203389830508474"
     },
     "execution_count": 13,
     "metadata": {},
     "output_type": "execute_result"
    }
   ],
   "source": [
    "clf.score(X_test,y_test)"
   ],
   "metadata": {
    "collapsed": false,
    "pycharm": {
     "name": "#%%\n"
    }
   }
  },
  {
   "cell_type": "code",
   "execution_count": 14,
   "outputs": [],
   "source": [
    "scores_data = pd.DataFrame()"
   ],
   "metadata": {
    "collapsed": false,
    "pycharm": {
     "name": "#%%\n"
    }
   }
  },
  {
   "cell_type": "code",
   "execution_count": 15,
   "outputs": [],
   "source": [
    "max_depth_value = range(1,100)"
   ],
   "metadata": {
    "collapsed": false,
    "pycharm": {
     "name": "#%%\n"
    }
   }
  },
  {
   "cell_type": "code",
   "execution_count": 16,
   "outputs": [],
   "source": [
    "for max_depth in max_depth_value:\n",
    "    clf = tree.DecisionTreeClassifier(criterion=\"entropy\", max_depth=max_depth)\n",
    "    clf.fit(X_train,y_train)\n",
    "    train_score = clf.score(X_train,y_train)\n",
    "    test_score = clf.score(X_test,y_test)\n",
    "    mean_cross_val_score = cross_val_score(clf, X_train, y_train, cv = 5).mean()\n",
    "    temp_score_data = pd.DataFrame(\n",
    "        {\"max_depth\": [max_depth],\n",
    "         \"train_score\": [train_score],\n",
    "         \"test_score\": [test_score],\n",
    "         \"cross_val_score\": [mean_cross_val_score]})\n",
    "    scores_data = scores_data.append(temp_score_data)"
   ],
   "metadata": {
    "collapsed": false,
    "pycharm": {
     "name": "#%%\n"
    }
   }
  },
  {
   "cell_type": "code",
   "execution_count": 17,
   "outputs": [
    {
     "data": {
      "text/plain": "   max_depth  train_score  test_score  cross_val_score\n0          1     0.781879    0.796610         0.781961\n0          2     0.805369    0.776271         0.770196\n0          3     0.823826    0.820339         0.790322\n0          4     0.833893    0.823729         0.788627\n0          5     0.840604    0.806780         0.800392",
      "text/html": "<div>\n<style scoped>\n    .dataframe tbody tr th:only-of-type {\n        vertical-align: middle;\n    }\n\n    .dataframe tbody tr th {\n        vertical-align: top;\n    }\n\n    .dataframe thead th {\n        text-align: right;\n    }\n</style>\n<table border=\"1\" class=\"dataframe\">\n  <thead>\n    <tr style=\"text-align: right;\">\n      <th></th>\n      <th>max_depth</th>\n      <th>train_score</th>\n      <th>test_score</th>\n      <th>cross_val_score</th>\n    </tr>\n  </thead>\n  <tbody>\n    <tr>\n      <th>0</th>\n      <td>1</td>\n      <td>0.781879</td>\n      <td>0.796610</td>\n      <td>0.781961</td>\n    </tr>\n    <tr>\n      <th>0</th>\n      <td>2</td>\n      <td>0.805369</td>\n      <td>0.776271</td>\n      <td>0.770196</td>\n    </tr>\n    <tr>\n      <th>0</th>\n      <td>3</td>\n      <td>0.823826</td>\n      <td>0.820339</td>\n      <td>0.790322</td>\n    </tr>\n    <tr>\n      <th>0</th>\n      <td>4</td>\n      <td>0.833893</td>\n      <td>0.823729</td>\n      <td>0.788627</td>\n    </tr>\n    <tr>\n      <th>0</th>\n      <td>5</td>\n      <td>0.840604</td>\n      <td>0.806780</td>\n      <td>0.800392</td>\n    </tr>\n  </tbody>\n</table>\n</div>"
     },
     "execution_count": 17,
     "metadata": {},
     "output_type": "execute_result"
    }
   ],
   "source": [
    "scores_data.head()"
   ],
   "metadata": {
    "collapsed": false,
    "pycharm": {
     "name": "#%%\n"
    }
   }
  },
  {
   "cell_type": "code",
   "execution_count": 18,
   "outputs": [],
   "source": [
    "scores_data_long = pd.melt(scores_data,\n",
    "                                    id_vars=[\"max_depth\"],\n",
    "                                    value_vars=[\"train_score\", \"test_score\", \"cross_val_score\"],\n",
    "                                    var_name=\"set_type\",\n",
    "                                    value_name=\"score\")"
   ],
   "metadata": {
    "collapsed": false,
    "pycharm": {
     "name": "#%%\n"
    }
   }
  },
  {
   "cell_type": "code",
   "execution_count": 19,
   "outputs": [
    {
     "data": {
      "text/plain": "   max_depth     set_type     score\n0          1  train_score  0.781879\n1          2  train_score  0.805369\n2          3  train_score  0.823826\n3          4  train_score  0.833893\n4          5  train_score  0.840604",
      "text/html": "<div>\n<style scoped>\n    .dataframe tbody tr th:only-of-type {\n        vertical-align: middle;\n    }\n\n    .dataframe tbody tr th {\n        vertical-align: top;\n    }\n\n    .dataframe thead th {\n        text-align: right;\n    }\n</style>\n<table border=\"1\" class=\"dataframe\">\n  <thead>\n    <tr style=\"text-align: right;\">\n      <th></th>\n      <th>max_depth</th>\n      <th>set_type</th>\n      <th>score</th>\n    </tr>\n  </thead>\n  <tbody>\n    <tr>\n      <th>0</th>\n      <td>1</td>\n      <td>train_score</td>\n      <td>0.781879</td>\n    </tr>\n    <tr>\n      <th>1</th>\n      <td>2</td>\n      <td>train_score</td>\n      <td>0.805369</td>\n    </tr>\n    <tr>\n      <th>2</th>\n      <td>3</td>\n      <td>train_score</td>\n      <td>0.823826</td>\n    </tr>\n    <tr>\n      <th>3</th>\n      <td>4</td>\n      <td>train_score</td>\n      <td>0.833893</td>\n    </tr>\n    <tr>\n      <th>4</th>\n      <td>5</td>\n      <td>train_score</td>\n      <td>0.840604</td>\n    </tr>\n  </tbody>\n</table>\n</div>"
     },
     "execution_count": 19,
     "metadata": {},
     "output_type": "execute_result"
    }
   ],
   "source": [
    "scores_data_long.head()"
   ],
   "metadata": {
    "collapsed": false,
    "pycharm": {
     "name": "#%%\n"
    }
   }
  },
  {
   "cell_type": "code",
   "execution_count": 20,
   "outputs": [
    {
     "data": {
      "text/plain": "     max_depth         set_type     score\n198          1  cross_val_score  0.781961\n199          2  cross_val_score  0.770196\n200          3  cross_val_score  0.790322\n201          4  cross_val_score  0.788627\n202          5  cross_val_score  0.800392\n203          6  cross_val_score  0.800392\n204          7  cross_val_score  0.802059\n205          8  cross_val_score  0.800364\n206          9  cross_val_score  0.800350\n207         10  cross_val_score  0.800350\n208         11  cross_val_score  0.800350\n209         12  cross_val_score  0.802059\n210         13  cross_val_score  0.785224\n211         14  cross_val_score  0.791947\n212         15  cross_val_score  0.786961\n213         16  cross_val_score  0.788641\n214         17  cross_val_score  0.790308\n215         18  cross_val_score  0.778571\n216         19  cross_val_score  0.783613\n217         20  cross_val_score  0.766821",
      "text/html": "<div>\n<style scoped>\n    .dataframe tbody tr th:only-of-type {\n        vertical-align: middle;\n    }\n\n    .dataframe tbody tr th {\n        vertical-align: top;\n    }\n\n    .dataframe thead th {\n        text-align: right;\n    }\n</style>\n<table border=\"1\" class=\"dataframe\">\n  <thead>\n    <tr style=\"text-align: right;\">\n      <th></th>\n      <th>max_depth</th>\n      <th>set_type</th>\n      <th>score</th>\n    </tr>\n  </thead>\n  <tbody>\n    <tr>\n      <th>198</th>\n      <td>1</td>\n      <td>cross_val_score</td>\n      <td>0.781961</td>\n    </tr>\n    <tr>\n      <th>199</th>\n      <td>2</td>\n      <td>cross_val_score</td>\n      <td>0.770196</td>\n    </tr>\n    <tr>\n      <th>200</th>\n      <td>3</td>\n      <td>cross_val_score</td>\n      <td>0.790322</td>\n    </tr>\n    <tr>\n      <th>201</th>\n      <td>4</td>\n      <td>cross_val_score</td>\n      <td>0.788627</td>\n    </tr>\n    <tr>\n      <th>202</th>\n      <td>5</td>\n      <td>cross_val_score</td>\n      <td>0.800392</td>\n    </tr>\n    <tr>\n      <th>203</th>\n      <td>6</td>\n      <td>cross_val_score</td>\n      <td>0.800392</td>\n    </tr>\n    <tr>\n      <th>204</th>\n      <td>7</td>\n      <td>cross_val_score</td>\n      <td>0.802059</td>\n    </tr>\n    <tr>\n      <th>205</th>\n      <td>8</td>\n      <td>cross_val_score</td>\n      <td>0.800364</td>\n    </tr>\n    <tr>\n      <th>206</th>\n      <td>9</td>\n      <td>cross_val_score</td>\n      <td>0.800350</td>\n    </tr>\n    <tr>\n      <th>207</th>\n      <td>10</td>\n      <td>cross_val_score</td>\n      <td>0.800350</td>\n    </tr>\n    <tr>\n      <th>208</th>\n      <td>11</td>\n      <td>cross_val_score</td>\n      <td>0.800350</td>\n    </tr>\n    <tr>\n      <th>209</th>\n      <td>12</td>\n      <td>cross_val_score</td>\n      <td>0.802059</td>\n    </tr>\n    <tr>\n      <th>210</th>\n      <td>13</td>\n      <td>cross_val_score</td>\n      <td>0.785224</td>\n    </tr>\n    <tr>\n      <th>211</th>\n      <td>14</td>\n      <td>cross_val_score</td>\n      <td>0.791947</td>\n    </tr>\n    <tr>\n      <th>212</th>\n      <td>15</td>\n      <td>cross_val_score</td>\n      <td>0.786961</td>\n    </tr>\n    <tr>\n      <th>213</th>\n      <td>16</td>\n      <td>cross_val_score</td>\n      <td>0.788641</td>\n    </tr>\n    <tr>\n      <th>214</th>\n      <td>17</td>\n      <td>cross_val_score</td>\n      <td>0.790308</td>\n    </tr>\n    <tr>\n      <th>215</th>\n      <td>18</td>\n      <td>cross_val_score</td>\n      <td>0.778571</td>\n    </tr>\n    <tr>\n      <th>216</th>\n      <td>19</td>\n      <td>cross_val_score</td>\n      <td>0.783613</td>\n    </tr>\n    <tr>\n      <th>217</th>\n      <td>20</td>\n      <td>cross_val_score</td>\n      <td>0.766821</td>\n    </tr>\n  </tbody>\n</table>\n</div>"
     },
     "execution_count": 20,
     "metadata": {},
     "output_type": "execute_result"
    }
   ],
   "source": [
    "scores_data_long.query(\"set_type == 'cross_val_score'\").head(20)"
   ],
   "metadata": {
    "collapsed": false,
    "pycharm": {
     "name": "#%%\n"
    }
   }
  },
  {
   "cell_type": "code",
   "execution_count": 21,
   "outputs": [
    {
     "data": {
      "text/plain": "<matplotlib.axes._subplots.AxesSubplot at 0x1c05b023820>"
     },
     "execution_count": 21,
     "metadata": {},
     "output_type": "execute_result"
    },
    {
     "data": {
      "text/plain": "<Figure size 432x288 with 1 Axes>",
      "image/png": "[encoded data removed]"
     },
     "metadata": {
      "needs_background": "light"
     },
     "output_type": "display_data"
    }
   ],
   "source": [
    "sns.lineplot(x = \"max_depth\", y = \"score\", hue = \"set_type\",data = scores_data_long)"
   ],
   "metadata": {
    "collapsed": false,
    "pycharm": {
     "name": "#%%\n"
    }
   }
  },
  {
   "cell_type": "code",
   "execution_count": 22,
   "outputs": [
    {
     "data": {
      "text/plain": "0.7864406779661017"
     },
     "execution_count": 22,
     "metadata": {},
     "output_type": "execute_result"
    }
   ],
   "source": [
    "best_clf = tree.DecisionTreeClassifier(criterion='entropy', max_depth=10)\n",
    "cross_val_score(clf,X_test,y_test,cv=5).mean()"
   ],
   "metadata": {
    "collapsed": false,
    "pycharm": {
     "name": "#%%\n"
    }
   }
  },
  {
   "cell_type": "code",
   "execution_count": 23,
   "outputs": [],
   "source": [
    "from sklearn.model_selection import GridSearchCV\n",
    "clf = tree.DecisionTreeClassifier()\n",
    "paramters = {'criterion': ['gini','entropy'], 'max_depth' : range(1,30)}"
   ],
   "metadata": {
    "collapsed": false,
    "pycharm": {
     "name": "#%%\n"
    }
   }
  },
  {
   "cell_type": "code",
   "execution_count": 24,
   "outputs": [],
   "source": [
    "grid_search_cv_clf = GridSearchCV(estimator=clf, param_grid=paramters, cv=5)"
   ],
   "metadata": {
    "collapsed": false,
    "pycharm": {
     "name": "#%%\n"
    }
   }
  },
  {
   "cell_type": "code",
   "execution_count": 25,
   "outputs": [
    {
     "data": {
      "text/plain": "GridSearchCV(cv=5, error_score=nan,\n             estimator=DecisionTreeClassifier(ccp_alpha=0.0, class_weight=None,\n                                              criterion='gini', max_depth=None,\n                                              max_features=None,\n                                              max_leaf_nodes=None,\n                                              min_impurity_decrease=0.0,\n                                              min_impurity_split=None,\n                                              min_samples_leaf=1,\n                                              min_samples_split=2,\n                                              min_weight_fraction_leaf=0.0,\n                                              presort='deprecated',\n                                              random_state=None,\n                                              splitter='best'),\n             iid='deprecated', n_jobs=None,\n             param_grid={'criterion': ['gini', 'entropy'],\n                         'max_depth': range(1, 30)},\n             pre_dispatch='2*n_jobs', refit=True, return_train_score=False,\n             scoring=None, verbose=0)"
     },
     "execution_count": 25,
     "metadata": {},
     "output_type": "execute_result"
    }
   ],
   "source": [
    "grid_search_cv_clf.fit(X_train,y_train)"
   ],
   "metadata": {
    "collapsed": false,
    "pycharm": {
     "name": "#%%\n"
    }
   }
  },
  {
   "cell_type": "code",
   "execution_count": 26,
   "outputs": [
    {
     "data": {
      "text/plain": "{'criterion': 'entropy', 'max_depth': 6}"
     },
     "execution_count": 26,
     "metadata": {},
     "output_type": "execute_result"
    }
   ],
   "source": [
    "grid_search_cv_clf.best_params_"
   ],
   "metadata": {
    "collapsed": false,
    "pycharm": {
     "name": "#%%\n"
    }
   }
  },
  {
   "cell_type": "code",
   "execution_count": 27,
   "outputs": [
    {
     "data": {
      "text/plain": "0.7661016949152543"
     },
     "execution_count": 27,
     "metadata": {},
     "output_type": "execute_result"
    }
   ],
   "source": [
    "best_clf = grid_search_cv_clf.best_estimator_\n",
    "best_clf.score(X_test,y_test)"
   ],
   "metadata": {
    "collapsed": false,
    "pycharm": {
     "name": "#%%\n"
    }
   }
  },
  {
   "cell_type": "code",
   "execution_count": 28,
   "outputs": [],
   "source": [
    "from sklearn.metrics import precision_score"
   ],
   "metadata": {
    "collapsed": false,
    "pycharm": {
     "name": "#%%\n"
    }
   }
  },
  {
   "cell_type": "code",
   "execution_count": 29,
   "outputs": [],
   "source": [
    "y_pred = best_clf.predict(X_test)"
   ],
   "metadata": {
    "collapsed": false,
    "pycharm": {
     "name": "#%%\n"
    }
   }
  },
  {
   "cell_type": "code",
   "execution_count": 30,
   "outputs": [
    {
     "data": {
      "text/plain": "0.7931034482758621"
     },
     "execution_count": 30,
     "metadata": {},
     "output_type": "execute_result"
    }
   ],
   "source": [
    "precision_score(y_true=y_test, y_pred=y_pred)"
   ],
   "metadata": {
    "collapsed": false,
    "pycharm": {
     "name": "#%%\n"
    }
   }
  },
  {
   "cell_type": "code",
   "execution_count": 31,
   "outputs": [],
   "source": [
    "from sklearn.metrics import recall_score"
   ],
   "metadata": {
    "collapsed": false,
    "pycharm": {
     "name": "#%%\n"
    }
   }
  },
  {
   "cell_type": "code",
   "execution_count": 32,
   "outputs": [
    {
     "data": {
      "text/plain": "0.575"
     },
     "execution_count": 32,
     "metadata": {},
     "output_type": "execute_result"
    }
   ],
   "source": [
    "recall_score(y_true=y_test, y_pred=y_pred)"
   ],
   "metadata": {
    "collapsed": false,
    "pycharm": {
     "name": "#%%\n"
    }
   }
  },
  {
   "cell_type": "code",
   "execution_count": 33,
   "outputs": [
    {
     "data": {
      "text/plain": "array([[0.88518519, 0.11481481],\n       [0.88518519, 0.11481481],\n       [0.88518519, 0.11481481],\n       [0.        , 1.        ],\n       [0.65625   , 0.34375   ],\n       [1.        , 0.        ],\n       [0.23809524, 0.76190476],\n       [0.88518519, 0.11481481],\n       [0.23809524, 0.76190476],\n       [0.        , 1.        ],\n       [0.125     , 0.875     ],\n       [0.88518519, 0.11481481],\n       [1.        , 0.        ],\n       [0.88518519, 0.11481481],\n       [0.88518519, 0.11481481],\n       [0.        , 1.        ],\n       [1.        , 0.        ],\n       [0.65625   , 0.34375   ],\n       [0.88518519, 0.11481481],\n       [1.        , 0.        ],\n       [0.88518519, 0.11481481],\n       [0.60714286, 0.39285714],\n       [0.65625   , 0.34375   ],\n       [0.88518519, 0.11481481],\n       [0.88518519, 0.11481481],\n       [0.6       , 0.4       ],\n       [0.60714286, 0.39285714],\n       [0.88518519, 0.11481481],\n       [0.6       , 0.4       ],\n       [0.65625   , 0.34375   ],\n       [0.88518519, 0.11481481],\n       [0.23809524, 0.76190476],\n       [0.60714286, 0.39285714],\n       [0.23809524, 0.76190476],\n       [0.88518519, 0.11481481],\n       [0.88518519, 0.11481481],\n       [0.60714286, 0.39285714],\n       [0.23809524, 0.76190476],\n       [0.        , 1.        ],\n       [0.88518519, 0.11481481],\n       [1.        , 0.        ],\n       [0.88518519, 0.11481481],\n       [0.88518519, 0.11481481],\n       [0.88518519, 0.11481481],\n       [1.        , 0.        ],\n       [0.88518519, 0.11481481],\n       [0.88518519, 0.11481481],\n       [0.88518519, 0.11481481],\n       [0.88518519, 0.11481481],\n       [0.4       , 0.6       ],\n       [0.        , 1.        ],\n       [0.07692308, 0.92307692],\n       [0.88518519, 0.11481481],\n       [0.58823529, 0.41176471],\n       [0.88518519, 0.11481481],\n       [0.        , 1.        ],\n       [0.88518519, 0.11481481],\n       [0.07692308, 0.92307692],\n       [0.        , 1.        ],\n       [0.65625   , 0.34375   ],\n       [0.88518519, 0.11481481],\n       [0.        , 1.        ],\n       [0.        , 1.        ],\n       [1.        , 0.        ],\n       [0.88518519, 0.11481481],\n       [0.07692308, 0.92307692],\n       [0.58823529, 0.41176471],\n       [0.88518519, 0.11481481],\n       [0.88518519, 0.11481481],\n       [0.07692308, 0.92307692],\n       [1.        , 0.        ],\n       [0.        , 1.        ],\n       [0.60714286, 0.39285714],\n       [0.        , 1.        ],\n       [0.88518519, 0.11481481],\n       [0.88518519, 0.11481481],\n       [0.23809524, 0.76190476],\n       [0.        , 1.        ],\n       [0.        , 1.        ],\n       [1.        , 0.        ],\n       [1.        , 0.        ],\n       [0.        , 1.        ],\n       [0.        , 1.        ],\n       [0.88518519, 0.11481481],\n       [0.60714286, 0.39285714],\n       [1.        , 0.        ],\n       [0.        , 1.        ],\n       [0.        , 1.        ],\n       [1.        , 0.        ],\n       [0.88518519, 0.11481481],\n       [0.6       , 0.4       ],\n       [1.        , 0.        ],\n       [0.60714286, 0.39285714],\n       [0.88518519, 0.11481481],\n       [0.88518519, 0.11481481],\n       [0.88518519, 0.11481481],\n       [1.        , 0.        ],\n       [0.88518519, 0.11481481],\n       [0.        , 1.        ],\n       [0.88518519, 0.11481481],\n       [1.        , 0.        ],\n       [0.88518519, 0.11481481],\n       [0.        , 1.        ],\n       [0.88518519, 0.11481481],\n       [0.88518519, 0.11481481],\n       [0.88518519, 0.11481481],\n       [0.        , 1.        ],\n       [1.        , 0.        ],\n       [0.88518519, 0.11481481],\n       [0.60714286, 0.39285714],\n       [0.        , 1.        ],\n       [0.88518519, 0.11481481],\n       [0.        , 1.        ],\n       [0.60714286, 0.39285714],\n       [0.58823529, 0.41176471],\n       [0.88518519, 0.11481481],\n       [0.60714286, 0.39285714],\n       [0.88518519, 0.11481481],\n       [0.        , 1.        ],\n       [1.        , 0.        ],\n       [0.88518519, 0.11481481],\n       [0.        , 1.        ],\n       [0.07692308, 0.92307692],\n       [0.        , 1.        ],\n       [0.88518519, 0.11481481],\n       [0.60714286, 0.39285714],\n       [0.        , 1.        ],\n       [0.58823529, 0.41176471],\n       [0.65625   , 0.34375   ],\n       [0.88518519, 0.11481481],\n       [0.65625   , 0.34375   ],\n       [0.88518519, 0.11481481],\n       [0.88518519, 0.11481481],\n       [0.65625   , 0.34375   ],\n       [0.4       , 0.6       ],\n       [0.65625   , 0.34375   ],\n       [0.        , 1.        ],\n       [0.88518519, 0.11481481],\n       [0.88518519, 0.11481481],\n       [0.4       , 0.6       ],\n       [0.88518519, 0.11481481],\n       [0.        , 1.        ],\n       [0.88518519, 0.11481481],\n       [0.88518519, 0.11481481],\n       [1.        , 0.        ],\n       [0.        , 1.        ],\n       [0.88518519, 0.11481481],\n       [0.88518519, 0.11481481],\n       [0.        , 1.        ],\n       [0.88518519, 0.11481481],\n       [0.88518519, 0.11481481],\n       [0.88518519, 0.11481481],\n       [0.88518519, 0.11481481],\n       [1.        , 0.        ],\n       [0.88518519, 0.11481481],\n       [0.88518519, 0.11481481],\n       [0.58823529, 0.41176471],\n       [0.65625   , 0.34375   ],\n       [0.        , 1.        ],\n       [0.        , 1.        ],\n       [0.88518519, 0.11481481],\n       [0.60714286, 0.39285714],\n       [0.88518519, 0.11481481],\n       [0.        , 1.        ],\n       [0.88518519, 0.11481481],\n       [0.4       , 0.6       ],\n       [0.88518519, 0.11481481],\n       [0.        , 1.        ],\n       [0.88518519, 0.11481481],\n       [0.88518519, 0.11481481],\n       [0.58823529, 0.41176471],\n       [0.        , 1.        ],\n       [0.60714286, 0.39285714],\n       [0.        , 1.        ],\n       [0.88518519, 0.11481481],\n       [0.88518519, 0.11481481],\n       [1.        , 0.        ],\n       [0.        , 1.        ],\n       [0.4       , 0.6       ],\n       [0.60714286, 0.39285714],\n       [0.88518519, 0.11481481],\n       [0.88518519, 0.11481481],\n       [0.88518519, 0.11481481],\n       [0.        , 1.        ],\n       [0.58823529, 0.41176471],\n       [0.60714286, 0.39285714],\n       [0.88518519, 0.11481481],\n       [0.88518519, 0.11481481],\n       [0.60714286, 0.39285714],\n       [0.        , 1.        ],\n       [0.88518519, 0.11481481],\n       [0.88518519, 0.11481481],\n       [0.88518519, 0.11481481],\n       [0.88518519, 0.11481481],\n       [0.07692308, 0.92307692],\n       [0.        , 1.        ],\n       [0.        , 1.        ],\n       [0.88518519, 0.11481481],\n       [0.        , 1.        ],\n       [1.        , 0.        ],\n       [0.88518519, 0.11481481],\n       [0.65625   , 0.34375   ],\n       [0.        , 1.        ],\n       [1.        , 0.        ],\n       [0.88518519, 0.11481481],\n       [0.        , 1.        ],\n       [0.88518519, 0.11481481],\n       [0.125     , 0.875     ],\n       [0.88518519, 0.11481481],\n       [0.88518519, 0.11481481],\n       [0.58823529, 0.41176471],\n       [0.88518519, 0.11481481],\n       [0.        , 1.        ],\n       [0.88518519, 0.11481481],\n       [1.        , 0.        ],\n       [0.        , 1.        ],\n       [1.        , 0.        ],\n       [0.4       , 0.6       ],\n       [1.        , 0.        ],\n       [0.88518519, 0.11481481],\n       [0.88518519, 0.11481481],\n       [0.        , 1.        ],\n       [0.88518519, 0.11481481],\n       [0.60714286, 0.39285714],\n       [0.88518519, 0.11481481],\n       [0.        , 1.        ],\n       [0.88518519, 0.11481481],\n       [0.        , 1.        ],\n       [0.        , 1.        ],\n       [0.65625   , 0.34375   ],\n       [0.88518519, 0.11481481],\n       [0.        , 1.        ],\n       [0.88518519, 0.11481481],\n       [0.23809524, 0.76190476],\n       [0.88518519, 0.11481481],\n       [0.65625   , 0.34375   ],\n       [0.07692308, 0.92307692],\n       [0.65625   , 0.34375   ],\n       [0.        , 1.        ],\n       [0.88518519, 0.11481481],\n       [0.88518519, 0.11481481],\n       [0.        , 1.        ],\n       [0.88518519, 0.11481481],\n       [0.65625   , 0.34375   ],\n       [0.88518519, 0.11481481],\n       [0.88518519, 0.11481481],\n       [0.88518519, 0.11481481],\n       [0.88518519, 0.11481481],\n       [0.88518519, 0.11481481],\n       [0.60714286, 0.39285714],\n       [0.65625   , 0.34375   ],\n       [0.88518519, 0.11481481],\n       [0.88518519, 0.11481481],\n       [0.88518519, 0.11481481],\n       [1.        , 0.        ],\n       [0.88518519, 0.11481481],\n       [0.88518519, 0.11481481],\n       [0.07692308, 0.92307692],\n       [0.88518519, 0.11481481],\n       [0.        , 1.        ],\n       [0.        , 1.        ],\n       [0.4       , 0.6       ],\n       [0.        , 1.        ],\n       [0.88518519, 0.11481481],\n       [1.        , 0.        ],\n       [0.60714286, 0.39285714],\n       [0.88518519, 0.11481481],\n       [0.60714286, 0.39285714],\n       [0.58823529, 0.41176471],\n       [0.88518519, 0.11481481],\n       [0.65625   , 0.34375   ],\n       [0.88518519, 0.11481481],\n       [0.88518519, 0.11481481],\n       [0.125     , 0.875     ],\n       [0.        , 1.        ],\n       [0.88518519, 0.11481481],\n       [0.88518519, 0.11481481],\n       [0.88518519, 0.11481481],\n       [0.        , 1.        ],\n       [0.88518519, 0.11481481],\n       [0.88518519, 0.11481481],\n       [0.88518519, 0.11481481],\n       [0.        , 1.        ],\n       [0.88518519, 0.11481481],\n       [0.88518519, 0.11481481],\n       [1.        , 0.        ],\n       [0.65625   , 0.34375   ],\n       [0.88518519, 0.11481481],\n       [0.        , 1.        ],\n       [0.6       , 0.4       ],\n       [0.88518519, 0.11481481],\n       [0.88518519, 0.11481481],\n       [0.        , 1.        ],\n       [0.        , 1.        ],\n       [0.88518519, 0.11481481]])"
     },
     "execution_count": 33,
     "metadata": {},
     "output_type": "execute_result"
    }
   ],
   "source": [
    "y_predicted_prob = best_clf.predict_proba(X_test)\n",
    "y_predicted_prob"
   ],
   "metadata": {
    "collapsed": false,
    "pycharm": {
     "name": "#%%\n"
    }
   }
  },
  {
   "cell_type": "code",
   "execution_count": 34,
   "outputs": [
    {
     "data": {
      "text/plain": "<matplotlib.axes._subplots.AxesSubplot at 0x1c05b0f1490>"
     },
     "execution_count": 34,
     "metadata": {},
     "output_type": "execute_result"
    },
    {
     "data": {
      "text/plain": "<Figure size 432x288 with 1 Axes>",
      "image/png": "[encoded data removed]"
     },
     "metadata": {
      "needs_background": "light"
     },
     "output_type": "display_data"
    }
   ],
   "source": [
    "pd.Series(y_predicted_prob[:,1]).hist()"
   ],
   "metadata": {
    "collapsed": false,
    "pycharm": {
     "name": "#%%\n"
    }
   }
  },
  {
   "cell_type": "code",
   "execution_count": 35,
   "outputs": [
    {
     "data": {
      "text/plain": "array([0, 0, 0, 1, 0, 0, 0, 0, 0, 1, 1, 0, 0, 0, 0, 1, 0, 0, 0, 0, 0, 0,\n       0, 0, 0, 0, 0, 0, 0, 0, 0, 0, 0, 0, 0, 0, 0, 0, 1, 0, 0, 0, 0, 0,\n       0, 0, 0, 0, 0, 0, 1, 1, 0, 0, 0, 1, 0, 1, 1, 0, 0, 1, 1, 0, 0, 1,\n       0, 0, 0, 1, 0, 1, 0, 1, 0, 0, 0, 1, 1, 0, 0, 1, 1, 0, 0, 0, 1, 1,\n       0, 0, 0, 0, 0, 0, 0, 0, 0, 0, 1, 0, 0, 0, 1, 0, 0, 0, 1, 0, 0, 0,\n       1, 0, 1, 0, 0, 0, 0, 0, 1, 0, 0, 1, 1, 1, 0, 0, 1, 0, 0, 0, 0, 0,\n       0, 0, 0, 0, 1, 0, 0, 0, 0, 1, 0, 0, 0, 1, 0, 0, 1, 0, 0, 0, 0, 0,\n       0, 0, 0, 0, 1, 1, 0, 0, 0, 1, 0, 0, 0, 1, 0, 0, 0, 1, 0, 1, 0, 0,\n       0, 1, 0, 0, 0, 0, 0, 1, 0, 0, 0, 0, 0, 1, 0, 0, 0, 0, 1, 1, 1, 0,\n       1, 0, 0, 0, 1, 0, 0, 1, 0, 1, 0, 0, 0, 0, 1, 0, 0, 1, 0, 0, 0, 0,\n       0, 1, 0, 0, 0, 1, 0, 1, 1, 0, 0, 1, 0, 0, 0, 0, 1, 0, 1, 0, 0, 1,\n       0, 0, 0, 0, 0, 0, 0, 0, 0, 0, 0, 0, 0, 0, 0, 1, 0, 1, 1, 0, 1, 0,\n       0, 0, 0, 0, 0, 0, 0, 0, 0, 1, 1, 0, 0, 0, 1, 0, 0, 0, 1, 0, 0, 0,\n       0, 0, 1, 0, 0, 0, 1, 1, 0])"
     },
     "execution_count": 35,
     "metadata": {},
     "output_type": "execute_result"
    }
   ],
   "source": [
    "y_preda = np.where(y_predicted_prob[:,1]>0.8, 1, 0)\n",
    "y_preda"
   ],
   "metadata": {
    "collapsed": false,
    "pycharm": {
     "name": "#%%\n"
    }
   }
  },
  {
   "cell_type": "code",
   "execution_count": 36,
   "outputs": [
    {
     "data": {
      "text/plain": "0.8493150684931506"
     },
     "execution_count": 36,
     "metadata": {},
     "output_type": "execute_result"
    }
   ],
   "source": [
    "precision_score(y_test,y_preda)"
   ],
   "metadata": {
    "collapsed": false,
    "pycharm": {
     "name": "#%%\n"
    }
   }
  },
  {
   "cell_type": "code",
   "execution_count": 37,
   "outputs": [
    {
     "data": {
      "text/plain": "0.575"
     },
     "execution_count": 37,
     "metadata": {},
     "output_type": "execute_result"
    }
   ],
   "source": [
    "recall_score(y_test, y_pred)"
   ],
   "metadata": {
    "collapsed": false,
    "pycharm": {
     "name": "#%%\n"
    }
   }
  },
  {
   "cell_type": "code",
   "execution_count": 38,
   "outputs": [
    {
     "data": {
      "text/plain": "<Figure size 432x288 with 1 Axes>",
      "image/png": "[encoded data removed]"
     },
     "metadata": {
      "needs_background": "light"
     },
     "output_type": "display_data"
    }
   ],
   "source": [
    "import matplotlib.pyplot as plt\n",
    "from sklearn.metrics import roc_curve, auc\n",
    "fpr, tpr, thresholds = roc_curve(y_test, y_predicted_prob[:,1])\n",
    "roc_auc= auc(fpr, tpr)\n",
    "lw= 2\n",
    "plt.figure()\n",
    "plt.plot(fpr, tpr, color='darkorange',\n",
    "         lw=lw, label='ROC curve (area = %0.2f)' % roc_auc)\n",
    "plt.plot([0, 1], [0, 1], color='navy', lw=lw, linestyle='--')\n",
    "plt.xlim([0.0, 1.0])\n",
    "plt.ylim([0.0, 1.05])\n",
    "plt.xlabel('False Positive Rate')\n",
    "plt.ylabel('True Positive Rate')\n",
    "plt.title('Receiver operating characteristic example')\n",
    "plt.legend(loc=\"lower right\")\n",
    "plt.show()"
   ],
   "metadata": {
    "collapsed": false,
    "pycharm": {
     "name": "#%%\n"
    }
   }
  }
 ],
 "metadata": {
  "kernelspec": {
   "display_name": "Python 3",
   "language": "python",
   "name": "python3"
  },
  "language_info": {
   "codemirror_mode": {
    "name": "ipython",
    "version": 2
   },
   "file_extension": ".py",
   "mimetype": "text/x-python",
   "name": "python",
   "nbconvert_exporter": "python",
   "pygments_lexer": "ipython2",
   "version": "2.7.6"
  }
 },
 "nbformat": 4,
 "nbformat_minor": 0
}