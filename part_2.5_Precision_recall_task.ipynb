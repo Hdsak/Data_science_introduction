{
 "cells": [
  {
   "cell_type": "code",
   "execution_count": 1,
   "metadata": {
    "collapsed": true
   },
   "outputs": [],
   "source": [
    "import pandas as pd\n",
    "import numpy as np\n",
    "import seaborn as sns\n",
    "import matplotlib.pyplot as plt\n",
    "from sklearn import tree"
   ]
  },
  {
   "cell_type": "code",
   "execution_count": 3,
   "outputs": [
    {
     "data": {
      "text/plain": "                     song  year          artist    genre  \\\n0              the-ownerz  2007       gangstarr  Hip-Hop   \n1    dead-sound-of-misery  2006  blind-guardian    Metal   \n2           modred-s-song  2006  blind-guardian    Metal   \n3          the-ninth-wave  2015  blind-guardian    Metal   \n4                  skills  2014       gangstarr  Hip-Hop   \n..                    ...   ...             ...      ...   \n355        just-like-that  2006            abba      Pop   \n356             ring-ring  1995            abba      Pop   \n357        reina-danzante  1981            abba      Pop   \n358   code-of-the-streets  2006       gangstarr  Hip-Hop   \n359             one-of-us  2001            abba      Pop   \n\n                                                lyrics  length  commas  \\\n0    \"One-two..\"\\n\"One-two, shots to the chin.. kno...    1300      24   \n1    It's dark\\nLet's do it now\\nBring in the siren...    1566       0   \n2    I've lost my battle before it starts\\nmy first...     996       1   \n3    As dark night embraces\\nWe are the nation\\nI w...    2868       5   \n4    Skills, skills, skills\\n\"My Microphone\"\\n\"It's...    3351      22   \n..                                                 ...     ...     ...   \n355  Until that day\\nMy life had been a river\\nFoll...     972       2   \n356  I was sitting by the phone\\nI was waiting all ...    1283      33   \n357  You can dance\\nYou can jive\\nHaving the time o...     810       1   \n358  Take this for example young brothers want rep\\...    1996      34   \n359  They passed me by, all of those great romances...     991       8   \n\n     exclamations  colons  hyphens  \n0               5       0       11  \n1               0       0        0  \n2               0       1        0  \n3               0       0        0  \n4               0       0        3  \n..            ...     ...      ...  \n355             0       0        1  \n356             0       0        3  \n357             0       0        0  \n358             0       0        5  \n359             0       0        0  \n\n[360 rows x 10 columns]",
      "text/html": "<div>\n<style scoped>\n    .dataframe tbody tr th:only-of-type {\n        vertical-align: middle;\n    }\n\n    .dataframe tbody tr th {\n        vertical-align: top;\n    }\n\n    .dataframe thead th {\n        text-align: right;\n    }\n</style>\n<table border=\"1\" class=\"dataframe\">\n  <thead>\n    <tr style=\"text-align: right;\">\n      <th></th>\n      <th>song</th>\n      <th>year</th>\n      <th>artist</th>\n      <th>genre</th>\n      <th>lyrics</th>\n      <th>length</th>\n      <th>commas</th>\n      <th>exclamations</th>\n      <th>colons</th>\n      <th>hyphens</th>\n    </tr>\n  </thead>\n  <tbody>\n    <tr>\n      <th>0</th>\n      <td>the-ownerz</td>\n      <td>2007</td>\n      <td>gangstarr</td>\n      <td>Hip-Hop</td>\n      <td>\"One-two..\"\\n\"One-two, shots to the chin.. kno...</td>\n      <td>1300</td>\n      <td>24</td>\n      <td>5</td>\n      <td>0</td>\n      <td>11</td>\n    </tr>\n    <tr>\n      <th>1</th>\n      <td>dead-sound-of-misery</td>\n      <td>2006</td>\n      <td>blind-guardian</td>\n      <td>Metal</td>\n      <td>It's dark\\nLet's do it now\\nBring in the siren...</td>\n      <td>1566</td>\n      <td>0</td>\n      <td>0</td>\n      <td>0</td>\n      <td>0</td>\n    </tr>\n    <tr>\n      <th>2</th>\n      <td>modred-s-song</td>\n      <td>2006</td>\n      <td>blind-guardian</td>\n      <td>Metal</td>\n      <td>I've lost my battle before it starts\\nmy first...</td>\n      <td>996</td>\n      <td>1</td>\n      <td>0</td>\n      <td>1</td>\n      <td>0</td>\n    </tr>\n    <tr>\n      <th>3</th>\n      <td>the-ninth-wave</td>\n      <td>2015</td>\n      <td>blind-guardian</td>\n      <td>Metal</td>\n      <td>As dark night embraces\\nWe are the nation\\nI w...</td>\n      <td>2868</td>\n      <td>5</td>\n      <td>0</td>\n      <td>0</td>\n      <td>0</td>\n    </tr>\n    <tr>\n      <th>4</th>\n      <td>skills</td>\n      <td>2014</td>\n      <td>gangstarr</td>\n      <td>Hip-Hop</td>\n      <td>Skills, skills, skills\\n\"My Microphone\"\\n\"It's...</td>\n      <td>3351</td>\n      <td>22</td>\n      <td>0</td>\n      <td>0</td>\n      <td>3</td>\n    </tr>\n    <tr>\n      <th>...</th>\n      <td>...</td>\n      <td>...</td>\n      <td>...</td>\n      <td>...</td>\n      <td>...</td>\n      <td>...</td>\n      <td>...</td>\n      <td>...</td>\n      <td>...</td>\n      <td>...</td>\n    </tr>\n    <tr>\n      <th>355</th>\n      <td>just-like-that</td>\n      <td>2006</td>\n      <td>abba</td>\n      <td>Pop</td>\n      <td>Until that day\\nMy life had been a river\\nFoll...</td>\n      <td>972</td>\n      <td>2</td>\n      <td>0</td>\n      <td>0</td>\n      <td>1</td>\n    </tr>\n    <tr>\n      <th>356</th>\n      <td>ring-ring</td>\n      <td>1995</td>\n      <td>abba</td>\n      <td>Pop</td>\n      <td>I was sitting by the phone\\nI was waiting all ...</td>\n      <td>1283</td>\n      <td>33</td>\n      <td>0</td>\n      <td>0</td>\n      <td>3</td>\n    </tr>\n    <tr>\n      <th>357</th>\n      <td>reina-danzante</td>\n      <td>1981</td>\n      <td>abba</td>\n      <td>Pop</td>\n      <td>You can dance\\nYou can jive\\nHaving the time o...</td>\n      <td>810</td>\n      <td>1</td>\n      <td>0</td>\n      <td>0</td>\n      <td>0</td>\n    </tr>\n    <tr>\n      <th>358</th>\n      <td>code-of-the-streets</td>\n      <td>2006</td>\n      <td>gangstarr</td>\n      <td>Hip-Hop</td>\n      <td>Take this for example young brothers want rep\\...</td>\n      <td>1996</td>\n      <td>34</td>\n      <td>0</td>\n      <td>0</td>\n      <td>5</td>\n    </tr>\n    <tr>\n      <th>359</th>\n      <td>one-of-us</td>\n      <td>2001</td>\n      <td>abba</td>\n      <td>Pop</td>\n      <td>They passed me by, all of those great romances...</td>\n      <td>991</td>\n      <td>8</td>\n      <td>0</td>\n      <td>0</td>\n      <td>0</td>\n    </tr>\n  </tbody>\n</table>\n<p>360 rows × 10 columns</p>\n</div>"
     },
     "execution_count": 3,
     "metadata": {},
     "output_type": "execute_result"
    }
   ],
   "source": [
    "data = pd.read_csv(\"https://stepik.org/media/attachments/course/4852/songs.csv\")\n",
    "data"
   ],
   "metadata": {
    "collapsed": false,
    "pycharm": {
     "name": "#%%\n"
    }
   }
  },
  {
   "cell_type": "code",
   "execution_count": null,
   "outputs": [],
   "source": [
    "clf = tree.DecisionTreeClassifier(criterion='entropy')"
   ],
   "metadata": {
    "collapsed": false,
    "pycharm": {
     "name": "#%%\n"
    }
   }
  }
 ],
 "metadata": {
  "kernelspec": {
   "display_name": "Python 3",
   "language": "python",
   "name": "python3"
  },
  "language_info": {
   "codemirror_mode": {
    "name": "ipython",
    "version": 2
   },
   "file_extension": ".py",
   "mimetype": "text/x-python",
   "name": "python",
   "nbconvert_exporter": "python",
   "pygments_lexer": "ipython2",
   "version": "2.7.6"
  }
 },
 "nbformat": 4,
 "nbformat_minor": 0
}