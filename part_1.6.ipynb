{
 "cells": [
  {
   "cell_type": "code",
   "execution_count": 2,
   "metadata": {
    "collapsed": true
   },
   "outputs": [],
   "source": [
    "import pandas as pd"
   ]
  },
  {
   "cell_type": "code",
   "execution_count": 3,
   "outputs": [
    {
     "data": {
      "text/plain": "   Unnamed: 0 attack_type  id  legs  localized_name  \\\n0           0       Melee   1     2       Anti-Mage   \n1           1       Melee   2     2             Axe   \n2           2      Ranged   3     4            Bane   \n3           3       Melee   4     2     Bloodseeker   \n4           4      Ranged   5     2  Crystal Maiden   \n\n                           name primary_attr  \\\n0        npc_dota_hero_antimage          agi   \n1             npc_dota_hero_axe          str   \n2            npc_dota_hero_bane          int   \n3     npc_dota_hero_bloodseeker          agi   \n4  npc_dota_hero_crystal_maiden          int   \n\n                                               roles  \n0                       ['Carry', 'Escape', 'Nuker']  \n1    ['Initiator', 'Durable', 'Disabler', 'Jungler']  \n2        ['Support', 'Disabler', 'Nuker', 'Durable']  \n3  ['Carry', 'Disabler', 'Jungler', 'Nuker', 'Ini...  \n4        ['Support', 'Disabler', 'Nuker', 'Jungler']  ",
      "text/html": "<div>\n<style scoped>\n    .dataframe tbody tr th:only-of-type {\n        vertical-align: middle;\n    }\n\n    .dataframe tbody tr th {\n        vertical-align: top;\n    }\n\n    .dataframe thead th {\n        text-align: right;\n    }\n</style>\n<table border=\"1\" class=\"dataframe\">\n  <thead>\n    <tr style=\"text-align: right;\">\n      <th></th>\n      <th>Unnamed: 0</th>\n      <th>attack_type</th>\n      <th>id</th>\n      <th>legs</th>\n      <th>localized_name</th>\n      <th>name</th>\n      <th>primary_attr</th>\n      <th>roles</th>\n    </tr>\n  </thead>\n  <tbody>\n    <tr>\n      <th>0</th>\n      <td>0</td>\n      <td>Melee</td>\n      <td>1</td>\n      <td>2</td>\n      <td>Anti-Mage</td>\n      <td>npc_dota_hero_antimage</td>\n      <td>agi</td>\n      <td>['Carry', 'Escape', 'Nuker']</td>\n    </tr>\n    <tr>\n      <th>1</th>\n      <td>1</td>\n      <td>Melee</td>\n      <td>2</td>\n      <td>2</td>\n      <td>Axe</td>\n      <td>npc_dota_hero_axe</td>\n      <td>str</td>\n      <td>['Initiator', 'Durable', 'Disabler', 'Jungler']</td>\n    </tr>\n    <tr>\n      <th>2</th>\n      <td>2</td>\n      <td>Ranged</td>\n      <td>3</td>\n      <td>4</td>\n      <td>Bane</td>\n      <td>npc_dota_hero_bane</td>\n      <td>int</td>\n      <td>['Support', 'Disabler', 'Nuker', 'Durable']</td>\n    </tr>\n    <tr>\n      <th>3</th>\n      <td>3</td>\n      <td>Melee</td>\n      <td>4</td>\n      <td>2</td>\n      <td>Bloodseeker</td>\n      <td>npc_dota_hero_bloodseeker</td>\n      <td>agi</td>\n      <td>['Carry', 'Disabler', 'Jungler', 'Nuker', 'Ini...</td>\n    </tr>\n    <tr>\n      <th>4</th>\n      <td>4</td>\n      <td>Ranged</td>\n      <td>5</td>\n      <td>2</td>\n      <td>Crystal Maiden</td>\n      <td>npc_dota_hero_crystal_maiden</td>\n      <td>int</td>\n      <td>['Support', 'Disabler', 'Nuker', 'Jungler']</td>\n    </tr>\n  </tbody>\n</table>\n</div>"
     },
     "execution_count": 3,
     "metadata": {},
     "output_type": "execute_result"
    }
   ],
   "source": [
    "data = pd.read_csv(\"https://stepik.org/media/attachments/course/4852/dota_hero_stats.csv\")\n",
    "data.head()"
   ],
   "metadata": {
    "collapsed": false,
    "pycharm": {
     "name": "#%%\n"
    }
   }
  },
  {
   "cell_type": "code",
   "execution_count": 15,
   "outputs": [
    {
     "data": {
      "text/plain": "   legs  Unnamed: 0  attack_type  id  localized_name  name  primary_attr  \\\n0     0          11           11  11              11    11            11   \n1     2          95           95  95              95    95            95   \n2     4           7            7   7               7     7             7   \n3     6           3            3   3               3     3             3   \n4     8           1            1   1               1     1             1   \n\n   roles  \n0     11  \n1     95  \n2      7  \n3      3  \n4      1  ",
      "text/html": "<div>\n<style scoped>\n    .dataframe tbody tr th:only-of-type {\n        vertical-align: middle;\n    }\n\n    .dataframe tbody tr th {\n        vertical-align: top;\n    }\n\n    .dataframe thead th {\n        text-align: right;\n    }\n</style>\n<table border=\"1\" class=\"dataframe\">\n  <thead>\n    <tr style=\"text-align: right;\">\n      <th></th>\n      <th>legs</th>\n      <th>Unnamed: 0</th>\n      <th>attack_type</th>\n      <th>id</th>\n      <th>localized_name</th>\n      <th>name</th>\n      <th>primary_attr</th>\n      <th>roles</th>\n    </tr>\n  </thead>\n  <tbody>\n    <tr>\n      <th>0</th>\n      <td>0</td>\n      <td>11</td>\n      <td>11</td>\n      <td>11</td>\n      <td>11</td>\n      <td>11</td>\n      <td>11</td>\n      <td>11</td>\n    </tr>\n    <tr>\n      <th>1</th>\n      <td>2</td>\n      <td>95</td>\n      <td>95</td>\n      <td>95</td>\n      <td>95</td>\n      <td>95</td>\n      <td>95</td>\n      <td>95</td>\n    </tr>\n    <tr>\n      <th>2</th>\n      <td>4</td>\n      <td>7</td>\n      <td>7</td>\n      <td>7</td>\n      <td>7</td>\n      <td>7</td>\n      <td>7</td>\n      <td>7</td>\n    </tr>\n    <tr>\n      <th>3</th>\n      <td>6</td>\n      <td>3</td>\n      <td>3</td>\n      <td>3</td>\n      <td>3</td>\n      <td>3</td>\n      <td>3</td>\n      <td>3</td>\n    </tr>\n    <tr>\n      <th>4</th>\n      <td>8</td>\n      <td>1</td>\n      <td>1</td>\n      <td>1</td>\n      <td>1</td>\n      <td>1</td>\n      <td>1</td>\n      <td>1</td>\n    </tr>\n  </tbody>\n</table>\n</div>"
     },
     "execution_count": 15,
     "metadata": {},
     "output_type": "execute_result"
    }
   ],
   "source": [
    "data.groupby(\"legs\", as_index=False).count()"
   ],
   "metadata": {
    "collapsed": false,
    "pycharm": {
     "name": "#%%\n"
    }
   }
  },
  {
   "cell_type": "code",
   "execution_count": 21,
   "outputs": [
    {
     "data": {
      "text/plain": "    Unnamed: 0 attack_type  id  legs localized_name                      name  \\\n9            9      Ranged  10     0      Morphling   npc_dota_hero_morphling   \n10          10      Ranged  11     0   Shadow Fiend   npc_dota_hero_nevermore   \n14          14      Ranged  15     0          Razor       npc_dota_hero_razor   \n26          26       Melee  28     0        Slardar     npc_dota_hero_slardar   \n31          31      Ranged  33     0         Enigma      npc_dota_hero_enigma   \n38          38      Ranged  40     0     Venomancer  npc_dota_hero_venomancer   \n45          45      Ranged  47     0          Viper       npc_dota_hero_viper   \n65          65       Melee  67     0        Spectre     npc_dota_hero_spectre   \n87          87       Melee  89     0     Naga Siren  npc_dota_hero_naga_siren   \n89          89      Ranged  91     0             Io        npc_dota_hero_wisp   \n92          92      Ranged  94     0         Medusa      npc_dota_hero_medusa   \n\n   primary_attr                                              roles  \n9           agi  ['Carry', 'Escape', 'Durable', 'Nuker', 'Disab...  \n10          agi                                 ['Carry', 'Nuker']  \n14          agi            ['Carry', 'Durable', 'Nuker', 'Pusher']  \n26          str  ['Carry', 'Durable', 'Initiator', 'Disabler', ...  \n31          int     ['Disabler', 'Jungler', 'Initiator', 'Pusher']  \n38          agi  ['Support', 'Nuker', 'Initiator', 'Pusher', 'D...  \n45          agi      ['Carry', 'Durable', 'Initiator', 'Disabler']  \n65          agi                     ['Carry', 'Durable', 'Escape']  \n87          agi  ['Carry', 'Support', 'Pusher', 'Disabler', 'In...  \n89          str                     ['Support', 'Escape', 'Nuker']  \n92          agi                   ['Carry', 'Disabler', 'Durable']  ",
      "text/html": "<div>\n<style scoped>\n    .dataframe tbody tr th:only-of-type {\n        vertical-align: middle;\n    }\n\n    .dataframe tbody tr th {\n        vertical-align: top;\n    }\n\n    .dataframe thead th {\n        text-align: right;\n    }\n</style>\n<table border=\"1\" class=\"dataframe\">\n  <thead>\n    <tr style=\"text-align: right;\">\n      <th></th>\n      <th>Unnamed: 0</th>\n      <th>attack_type</th>\n      <th>id</th>\n      <th>legs</th>\n      <th>localized_name</th>\n      <th>name</th>\n      <th>primary_attr</th>\n      <th>roles</th>\n    </tr>\n  </thead>\n  <tbody>\n    <tr>\n      <th>9</th>\n      <td>9</td>\n      <td>Ranged</td>\n      <td>10</td>\n      <td>0</td>\n      <td>Morphling</td>\n      <td>npc_dota_hero_morphling</td>\n      <td>agi</td>\n      <td>['Carry', 'Escape', 'Durable', 'Nuker', 'Disab...</td>\n    </tr>\n    <tr>\n      <th>10</th>\n      <td>10</td>\n      <td>Ranged</td>\n      <td>11</td>\n      <td>0</td>\n      <td>Shadow Fiend</td>\n      <td>npc_dota_hero_nevermore</td>\n      <td>agi</td>\n      <td>['Carry', 'Nuker']</td>\n    </tr>\n    <tr>\n      <th>14</th>\n      <td>14</td>\n      <td>Ranged</td>\n      <td>15</td>\n      <td>0</td>\n      <td>Razor</td>\n      <td>npc_dota_hero_razor</td>\n      <td>agi</td>\n      <td>['Carry', 'Durable', 'Nuker', 'Pusher']</td>\n    </tr>\n    <tr>\n      <th>26</th>\n      <td>26</td>\n      <td>Melee</td>\n      <td>28</td>\n      <td>0</td>\n      <td>Slardar</td>\n      <td>npc_dota_hero_slardar</td>\n      <td>str</td>\n      <td>['Carry', 'Durable', 'Initiator', 'Disabler', ...</td>\n    </tr>\n    <tr>\n      <th>31</th>\n      <td>31</td>\n      <td>Ranged</td>\n      <td>33</td>\n      <td>0</td>\n      <td>Enigma</td>\n      <td>npc_dota_hero_enigma</td>\n      <td>int</td>\n      <td>['Disabler', 'Jungler', 'Initiator', 'Pusher']</td>\n    </tr>\n    <tr>\n      <th>38</th>\n      <td>38</td>\n      <td>Ranged</td>\n      <td>40</td>\n      <td>0</td>\n      <td>Venomancer</td>\n      <td>npc_dota_hero_venomancer</td>\n      <td>agi</td>\n      <td>['Support', 'Nuker', 'Initiator', 'Pusher', 'D...</td>\n    </tr>\n    <tr>\n      <th>45</th>\n      <td>45</td>\n      <td>Ranged</td>\n      <td>47</td>\n      <td>0</td>\n      <td>Viper</td>\n      <td>npc_dota_hero_viper</td>\n      <td>agi</td>\n      <td>['Carry', 'Durable', 'Initiator', 'Disabler']</td>\n    </tr>\n    <tr>\n      <th>65</th>\n      <td>65</td>\n      <td>Melee</td>\n      <td>67</td>\n      <td>0</td>\n      <td>Spectre</td>\n      <td>npc_dota_hero_spectre</td>\n      <td>agi</td>\n      <td>['Carry', 'Durable', 'Escape']</td>\n    </tr>\n    <tr>\n      <th>87</th>\n      <td>87</td>\n      <td>Melee</td>\n      <td>89</td>\n      <td>0</td>\n      <td>Naga Siren</td>\n      <td>npc_dota_hero_naga_siren</td>\n      <td>agi</td>\n      <td>['Carry', 'Support', 'Pusher', 'Disabler', 'In...</td>\n    </tr>\n    <tr>\n      <th>89</th>\n      <td>89</td>\n      <td>Ranged</td>\n      <td>91</td>\n      <td>0</td>\n      <td>Io</td>\n      <td>npc_dota_hero_wisp</td>\n      <td>str</td>\n      <td>['Support', 'Escape', 'Nuker']</td>\n    </tr>\n    <tr>\n      <th>92</th>\n      <td>92</td>\n      <td>Ranged</td>\n      <td>94</td>\n      <td>0</td>\n      <td>Medusa</td>\n      <td>npc_dota_hero_medusa</td>\n      <td>agi</td>\n      <td>['Carry', 'Disabler', 'Durable']</td>\n    </tr>\n  </tbody>\n</table>\n</div>"
     },
     "execution_count": 21,
     "metadata": {},
     "output_type": "execute_result"
    }
   ],
   "source": [
    "data.loc[data['legs']== 0]"
   ],
   "metadata": {
    "collapsed": false,
    "pycharm": {
     "name": "#%%\n"
    }
   }
  },
  {
   "cell_type": "code",
   "execution_count": 24,
   "outputs": [
    {
     "data": {
      "text/plain": "   Unnamed: 0 Executor Type  Salary\n0           0     Pupa    D      63\n1           1     Pupa    A     158\n2           2     Pupa    D     194\n3           3     Pupa    E     109\n4           4    Loopa    E     184",
      "text/html": "<div>\n<style scoped>\n    .dataframe tbody tr th:only-of-type {\n        vertical-align: middle;\n    }\n\n    .dataframe tbody tr th {\n        vertical-align: top;\n    }\n\n    .dataframe thead th {\n        text-align: right;\n    }\n</style>\n<table border=\"1\" class=\"dataframe\">\n  <thead>\n    <tr style=\"text-align: right;\">\n      <th></th>\n      <th>Unnamed: 0</th>\n      <th>Executor</th>\n      <th>Type</th>\n      <th>Salary</th>\n    </tr>\n  </thead>\n  <tbody>\n    <tr>\n      <th>0</th>\n      <td>0</td>\n      <td>Pupa</td>\n      <td>D</td>\n      <td>63</td>\n    </tr>\n    <tr>\n      <th>1</th>\n      <td>1</td>\n      <td>Pupa</td>\n      <td>A</td>\n      <td>158</td>\n    </tr>\n    <tr>\n      <th>2</th>\n      <td>2</td>\n      <td>Pupa</td>\n      <td>D</td>\n      <td>194</td>\n    </tr>\n    <tr>\n      <th>3</th>\n      <td>3</td>\n      <td>Pupa</td>\n      <td>E</td>\n      <td>109</td>\n    </tr>\n    <tr>\n      <th>4</th>\n      <td>4</td>\n      <td>Loopa</td>\n      <td>E</td>\n      <td>184</td>\n    </tr>\n  </tbody>\n</table>\n</div>"
     },
     "execution_count": 24,
     "metadata": {},
     "output_type": "execute_result"
    }
   ],
   "source": [
    "data_1 = pd.read_csv(\"https://stepik.org/media/attachments/course/4852/accountancy.csv\")\n",
    "data_1.head()"
   ],
   "metadata": {
    "collapsed": false,
    "pycharm": {
     "name": "#%%\n"
    }
   }
  },
  {
   "cell_type": "code",
   "execution_count": 31,
   "outputs": [
    {
     "data": {
      "text/plain": "                   Salary\nExecutor Type            \nLoopa    A      58.000000\n         B     145.166667\n         C     154.333333\n         D     137.714286\n         E     164.000000\n         F     238.000000\nPupa     A     160.833333\n         B      77.000000\n         C      74.500000\n         D     146.500000\n         E     131.200000\n         F     136.250000",
      "text/html": "<div>\n<style scoped>\n    .dataframe tbody tr th:only-of-type {\n        vertical-align: middle;\n    }\n\n    .dataframe tbody tr th {\n        vertical-align: top;\n    }\n\n    .dataframe thead th {\n        text-align: right;\n    }\n</style>\n<table border=\"1\" class=\"dataframe\">\n  <thead>\n    <tr style=\"text-align: right;\">\n      <th></th>\n      <th></th>\n      <th>Salary</th>\n    </tr>\n    <tr>\n      <th>Executor</th>\n      <th>Type</th>\n      <th></th>\n    </tr>\n  </thead>\n  <tbody>\n    <tr>\n      <th rowspan=\"6\" valign=\"top\">Loopa</th>\n      <th>A</th>\n      <td>58.000000</td>\n    </tr>\n    <tr>\n      <th>B</th>\n      <td>145.166667</td>\n    </tr>\n    <tr>\n      <th>C</th>\n      <td>154.333333</td>\n    </tr>\n    <tr>\n      <th>D</th>\n      <td>137.714286</td>\n    </tr>\n    <tr>\n      <th>E</th>\n      <td>164.000000</td>\n    </tr>\n    <tr>\n      <th>F</th>\n      <td>238.000000</td>\n    </tr>\n    <tr>\n      <th rowspan=\"6\" valign=\"top\">Pupa</th>\n      <th>A</th>\n      <td>160.833333</td>\n    </tr>\n    <tr>\n      <th>B</th>\n      <td>77.000000</td>\n    </tr>\n    <tr>\n      <th>C</th>\n      <td>74.500000</td>\n    </tr>\n    <tr>\n      <th>D</th>\n      <td>146.500000</td>\n    </tr>\n    <tr>\n      <th>E</th>\n      <td>131.200000</td>\n    </tr>\n    <tr>\n      <th>F</th>\n      <td>136.250000</td>\n    </tr>\n  </tbody>\n</table>\n</div>"
     },
     "execution_count": 31,
     "metadata": {},
     "output_type": "execute_result"
    }
   ],
   "source": [
    "data_1.groupby([\"Executor\",\"Type\"]).aggregate({\"Salary\":\"mean\"}).head(12)"
   ],
   "metadata": {
    "collapsed": false,
    "pycharm": {
     "name": "#%%\n"
    }
   }
  },
  {
   "cell_type": "code",
   "execution_count": 36,
   "outputs": [
    {
     "data": {
      "text/plain": "                          Unnamed: 0  id  legs  localized_name  name  roles\nattack_type primary_attr                                                   \n8           8                      1   1     1               1     1      1\nMelee       agi                   19  19    19              19    19     19\n            int                    2   2     2               2     2      2\n            str                   35  35    35              35    35     35\nRanged      agi                   18  18    18              18    18     18\n            int                   40  40    40              40    40     40\n            str                    3   3     3               3     3      3",
      "text/html": "<div>\n<style scoped>\n    .dataframe tbody tr th:only-of-type {\n        vertical-align: middle;\n    }\n\n    .dataframe tbody tr th {\n        vertical-align: top;\n    }\n\n    .dataframe thead th {\n        text-align: right;\n    }\n</style>\n<table border=\"1\" class=\"dataframe\">\n  <thead>\n    <tr style=\"text-align: right;\">\n      <th></th>\n      <th></th>\n      <th>Unnamed: 0</th>\n      <th>id</th>\n      <th>legs</th>\n      <th>localized_name</th>\n      <th>name</th>\n      <th>roles</th>\n    </tr>\n    <tr>\n      <th>attack_type</th>\n      <th>primary_attr</th>\n      <th></th>\n      <th></th>\n      <th></th>\n      <th></th>\n      <th></th>\n      <th></th>\n    </tr>\n  </thead>\n  <tbody>\n    <tr>\n      <th>8</th>\n      <th>8</th>\n      <td>1</td>\n      <td>1</td>\n      <td>1</td>\n      <td>1</td>\n      <td>1</td>\n      <td>1</td>\n    </tr>\n    <tr>\n      <th rowspan=\"3\" valign=\"top\">Melee</th>\n      <th>agi</th>\n      <td>19</td>\n      <td>19</td>\n      <td>19</td>\n      <td>19</td>\n      <td>19</td>\n      <td>19</td>\n    </tr>\n    <tr>\n      <th>int</th>\n      <td>2</td>\n      <td>2</td>\n      <td>2</td>\n      <td>2</td>\n      <td>2</td>\n      <td>2</td>\n    </tr>\n    <tr>\n      <th>str</th>\n      <td>35</td>\n      <td>35</td>\n      <td>35</td>\n      <td>35</td>\n      <td>35</td>\n      <td>35</td>\n    </tr>\n    <tr>\n      <th rowspan=\"3\" valign=\"top\">Ranged</th>\n      <th>agi</th>\n      <td>18</td>\n      <td>18</td>\n      <td>18</td>\n      <td>18</td>\n      <td>18</td>\n      <td>18</td>\n    </tr>\n    <tr>\n      <th>int</th>\n      <td>40</td>\n      <td>40</td>\n      <td>40</td>\n      <td>40</td>\n      <td>40</td>\n      <td>40</td>\n    </tr>\n    <tr>\n      <th>str</th>\n      <td>3</td>\n      <td>3</td>\n      <td>3</td>\n      <td>3</td>\n      <td>3</td>\n      <td>3</td>\n    </tr>\n  </tbody>\n</table>\n</div>"
     },
     "execution_count": 36,
     "metadata": {},
     "output_type": "execute_result"
    }
   ],
   "source": [
    "data.groupby([\"attack_type\", \"primary_attr\"]).count()"
   ],
   "metadata": {
    "collapsed": false,
    "pycharm": {
     "name": "#%%\n"
    }
   }
  },
  {
   "cell_type": "code",
   "execution_count": 38,
   "outputs": [
    {
     "data": {
      "text/plain": "              sucrose    alanin   citrate   glucose  oleic_acid\ngenus                                                          \nAscophyllum  6.825467  0.875429  5.253527  3.414961    2.432526\nCladophora   4.008792  3.997055  5.288311  2.800276    2.263472\nFucus        4.355112  3.566411  4.214878  2.814803    3.367647\nPalmaria     0.704580  3.176440  5.573905  3.242090    2.245538\nSaccharina   4.183596  3.524207  3.346710  4.980594    4.487252",
      "text/html": "<div>\n<style scoped>\n    .dataframe tbody tr th:only-of-type {\n        vertical-align: middle;\n    }\n\n    .dataframe tbody tr th {\n        vertical-align: top;\n    }\n\n    .dataframe thead th {\n        text-align: right;\n    }\n</style>\n<table border=\"1\" class=\"dataframe\">\n  <thead>\n    <tr style=\"text-align: right;\">\n      <th></th>\n      <th>sucrose</th>\n      <th>alanin</th>\n      <th>citrate</th>\n      <th>glucose</th>\n      <th>oleic_acid</th>\n    </tr>\n    <tr>\n      <th>genus</th>\n      <th></th>\n      <th></th>\n      <th></th>\n      <th></th>\n      <th></th>\n    </tr>\n  </thead>\n  <tbody>\n    <tr>\n      <th>Ascophyllum</th>\n      <td>6.825467</td>\n      <td>0.875429</td>\n      <td>5.253527</td>\n      <td>3.414961</td>\n      <td>2.432526</td>\n    </tr>\n    <tr>\n      <th>Cladophora</th>\n      <td>4.008792</td>\n      <td>3.997055</td>\n      <td>5.288311</td>\n      <td>2.800276</td>\n      <td>2.263472</td>\n    </tr>\n    <tr>\n      <th>Fucus</th>\n      <td>4.355112</td>\n      <td>3.566411</td>\n      <td>4.214878</td>\n      <td>2.814803</td>\n      <td>3.367647</td>\n    </tr>\n    <tr>\n      <th>Palmaria</th>\n      <td>0.704580</td>\n      <td>3.176440</td>\n      <td>5.573905</td>\n      <td>3.242090</td>\n      <td>2.245538</td>\n    </tr>\n    <tr>\n      <th>Saccharina</th>\n      <td>4.183596</td>\n      <td>3.524207</td>\n      <td>3.346710</td>\n      <td>4.980594</td>\n      <td>4.487252</td>\n    </tr>\n  </tbody>\n</table>\n</div>"
     },
     "execution_count": 38,
     "metadata": {},
     "output_type": "execute_result"
    }
   ],
   "source": [
    "data_2 = pd.read_csv(\"http://stepik.org/media/attachments/course/4852/algae.csv\")\n",
    "data_2.groupby(\"genus\").mean()"
   ],
   "metadata": {
    "collapsed": false,
    "pycharm": {
     "name": "#%%\n"
    }
   }
  },
  {
   "cell_type": "code",
   "execution_count": 39,
   "outputs": [
    {
     "data": {
      "text/plain": "                         species  group   sucrose    alanin   citrate  \\\ngenus                                                                   \nAscophyllum  Ascophyllum_nodosum  brown  6.825467  0.875429  5.253527   \nCladophora   Cladophora_compacta  green  2.452623  1.648450  3.082826   \nFucus            Fucus_distichus  brown  3.001472  0.346431  1.216767   \nPalmaria        Palmaria_palmata    red  0.704580  3.176440  5.573905   \nSaccharina   Saccharina_japonica  brown  1.636122  1.255251  1.071920   \n\n              glucose  oleic_acid  \ngenus                              \nAscophyllum  3.414961    2.432526  \nCladophora   2.316955    1.432514  \nFucus        2.272724    0.304573  \nPalmaria     3.242090    2.245538  \nSaccharina   3.947968    4.156700  ",
      "text/html": "<div>\n<style scoped>\n    .dataframe tbody tr th:only-of-type {\n        vertical-align: middle;\n    }\n\n    .dataframe tbody tr th {\n        vertical-align: top;\n    }\n\n    .dataframe thead th {\n        text-align: right;\n    }\n</style>\n<table border=\"1\" class=\"dataframe\">\n  <thead>\n    <tr style=\"text-align: right;\">\n      <th></th>\n      <th>species</th>\n      <th>group</th>\n      <th>sucrose</th>\n      <th>alanin</th>\n      <th>citrate</th>\n      <th>glucose</th>\n      <th>oleic_acid</th>\n    </tr>\n    <tr>\n      <th>genus</th>\n      <th></th>\n      <th></th>\n      <th></th>\n      <th></th>\n      <th></th>\n      <th></th>\n      <th></th>\n    </tr>\n  </thead>\n  <tbody>\n    <tr>\n      <th>Ascophyllum</th>\n      <td>Ascophyllum_nodosum</td>\n      <td>brown</td>\n      <td>6.825467</td>\n      <td>0.875429</td>\n      <td>5.253527</td>\n      <td>3.414961</td>\n      <td>2.432526</td>\n    </tr>\n    <tr>\n      <th>Cladophora</th>\n      <td>Cladophora_compacta</td>\n      <td>green</td>\n      <td>2.452623</td>\n      <td>1.648450</td>\n      <td>3.082826</td>\n      <td>2.316955</td>\n      <td>1.432514</td>\n    </tr>\n    <tr>\n      <th>Fucus</th>\n      <td>Fucus_distichus</td>\n      <td>brown</td>\n      <td>3.001472</td>\n      <td>0.346431</td>\n      <td>1.216767</td>\n      <td>2.272724</td>\n      <td>0.304573</td>\n    </tr>\n    <tr>\n      <th>Palmaria</th>\n      <td>Palmaria_palmata</td>\n      <td>red</td>\n      <td>0.704580</td>\n      <td>3.176440</td>\n      <td>5.573905</td>\n      <td>3.242090</td>\n      <td>2.245538</td>\n    </tr>\n    <tr>\n      <th>Saccharina</th>\n      <td>Saccharina_japonica</td>\n      <td>brown</td>\n      <td>1.636122</td>\n      <td>1.255251</td>\n      <td>1.071920</td>\n      <td>3.947968</td>\n      <td>4.156700</td>\n    </tr>\n  </tbody>\n</table>\n</div>"
     },
     "execution_count": 39,
     "metadata": {},
     "output_type": "execute_result"
    }
   ],
   "source": [
    "data_2.groupby(\"genus\").min()"
   ],
   "metadata": {
    "collapsed": false,
    "pycharm": {
     "name": "#%%\n"
    }
   }
  },
  {
   "cell_type": "code",
   "execution_count": 40,
   "outputs": [
    {
     "data": {
      "text/plain": "              sucrose    alanin   citrate   glucose  oleic_acid\ngenus                                                          \nAscophyllum  6.825467  0.875429  5.253527  3.414961    2.432526\nCladophora   4.008792  3.997055  5.288311  2.800276    2.263472\nFucus        4.355112  3.566411  4.214878  2.814803    3.367647\nPalmaria     0.704580  3.176440  5.573905  3.242090    2.245538\nSaccharina   4.183596  3.524207  3.346710  4.980594    4.487252",
      "text/html": "<div>\n<style scoped>\n    .dataframe tbody tr th:only-of-type {\n        vertical-align: middle;\n    }\n\n    .dataframe tbody tr th {\n        vertical-align: top;\n    }\n\n    .dataframe thead th {\n        text-align: right;\n    }\n</style>\n<table border=\"1\" class=\"dataframe\">\n  <thead>\n    <tr style=\"text-align: right;\">\n      <th></th>\n      <th>sucrose</th>\n      <th>alanin</th>\n      <th>citrate</th>\n      <th>glucose</th>\n      <th>oleic_acid</th>\n    </tr>\n    <tr>\n      <th>genus</th>\n      <th></th>\n      <th></th>\n      <th></th>\n      <th></th>\n      <th></th>\n    </tr>\n  </thead>\n  <tbody>\n    <tr>\n      <th>Ascophyllum</th>\n      <td>6.825467</td>\n      <td>0.875429</td>\n      <td>5.253527</td>\n      <td>3.414961</td>\n      <td>2.432526</td>\n    </tr>\n    <tr>\n      <th>Cladophora</th>\n      <td>4.008792</td>\n      <td>3.997055</td>\n      <td>5.288311</td>\n      <td>2.800276</td>\n      <td>2.263472</td>\n    </tr>\n    <tr>\n      <th>Fucus</th>\n      <td>4.355112</td>\n      <td>3.566411</td>\n      <td>4.214878</td>\n      <td>2.814803</td>\n      <td>3.367647</td>\n    </tr>\n    <tr>\n      <th>Palmaria</th>\n      <td>0.704580</td>\n      <td>3.176440</td>\n      <td>5.573905</td>\n      <td>3.242090</td>\n      <td>2.245538</td>\n    </tr>\n    <tr>\n      <th>Saccharina</th>\n      <td>4.183596</td>\n      <td>3.524207</td>\n      <td>3.346710</td>\n      <td>4.980594</td>\n      <td>4.487252</td>\n    </tr>\n  </tbody>\n</table>\n</div>"
     },
     "execution_count": 40,
     "metadata": {},
     "output_type": "execute_result"
    }
   ],
   "source": [
    "data_2.groupby(\"genus\").mean()"
   ],
   "metadata": {
    "collapsed": false,
    "pycharm": {
     "name": "#%%\n"
    }
   }
  },
  {
   "cell_type": "code",
   "execution_count": 41,
   "outputs": [
    {
     "data": {
      "text/plain": "                          species  group   sucrose    alanin   citrate  \\\ngenus                                                                    \nAscophyllum   Ascophyllum_nodosum  brown  6.825467  0.875429  5.253527   \nCladophora    Cladophora_gracilis  green  5.712284  6.881024  6.940588   \nFucus           Fucus_vesiculosus  brown  6.786996  6.641303  6.423606   \nPalmaria         Palmaria_palmata    red  0.704580  3.176440  5.573905   \nSaccharina   Saccharina_latissima  brown  6.731070  5.793163  5.621499   \n\n              glucose  oleic_acid  \ngenus                              \nAscophyllum  3.414961    2.432526  \nCladophora   3.343707    2.829016  \nFucus        3.623225    6.405165  \nPalmaria     3.242090    2.245538  \nSaccharina   6.013219    4.817804  ",
      "text/html": "<div>\n<style scoped>\n    .dataframe tbody tr th:only-of-type {\n        vertical-align: middle;\n    }\n\n    .dataframe tbody tr th {\n        vertical-align: top;\n    }\n\n    .dataframe thead th {\n        text-align: right;\n    }\n</style>\n<table border=\"1\" class=\"dataframe\">\n  <thead>\n    <tr style=\"text-align: right;\">\n      <th></th>\n      <th>species</th>\n      <th>group</th>\n      <th>sucrose</th>\n      <th>alanin</th>\n      <th>citrate</th>\n      <th>glucose</th>\n      <th>oleic_acid</th>\n    </tr>\n    <tr>\n      <th>genus</th>\n      <th></th>\n      <th></th>\n      <th></th>\n      <th></th>\n      <th></th>\n      <th></th>\n      <th></th>\n    </tr>\n  </thead>\n  <tbody>\n    <tr>\n      <th>Ascophyllum</th>\n      <td>Ascophyllum_nodosum</td>\n      <td>brown</td>\n      <td>6.825467</td>\n      <td>0.875429</td>\n      <td>5.253527</td>\n      <td>3.414961</td>\n      <td>2.432526</td>\n    </tr>\n    <tr>\n      <th>Cladophora</th>\n      <td>Cladophora_gracilis</td>\n      <td>green</td>\n      <td>5.712284</td>\n      <td>6.881024</td>\n      <td>6.940588</td>\n      <td>3.343707</td>\n      <td>2.829016</td>\n    </tr>\n    <tr>\n      <th>Fucus</th>\n      <td>Fucus_vesiculosus</td>\n      <td>brown</td>\n      <td>6.786996</td>\n      <td>6.641303</td>\n      <td>6.423606</td>\n      <td>3.623225</td>\n      <td>6.405165</td>\n    </tr>\n    <tr>\n      <th>Palmaria</th>\n      <td>Palmaria_palmata</td>\n      <td>red</td>\n      <td>0.704580</td>\n      <td>3.176440</td>\n      <td>5.573905</td>\n      <td>3.242090</td>\n      <td>2.245538</td>\n    </tr>\n    <tr>\n      <th>Saccharina</th>\n      <td>Saccharina_latissima</td>\n      <td>brown</td>\n      <td>6.731070</td>\n      <td>5.793163</td>\n      <td>5.621499</td>\n      <td>6.013219</td>\n      <td>4.817804</td>\n    </tr>\n  </tbody>\n</table>\n</div>"
     },
     "execution_count": 41,
     "metadata": {},
     "output_type": "execute_result"
    }
   ],
   "source": [
    "data_2.groupby(\"genus\").max()"
   ],
   "metadata": {
    "collapsed": false,
    "pycharm": {
     "name": "#%%\n"
    }
   }
  },
  {
   "cell_type": "code",
   "execution_count": 43,
   "outputs": [
    {
     "data": {
      "text/plain": "       citrate  sucrose  glucose\ngroup                           \nbrown     5.47     5.19        6\ngreen     3.95     3.26        3\nred        NaN     0.00        1",
      "text/html": "<div>\n<style scoped>\n    .dataframe tbody tr th:only-of-type {\n        vertical-align: middle;\n    }\n\n    .dataframe tbody tr th {\n        vertical-align: top;\n    }\n\n    .dataframe thead th {\n        text-align: right;\n    }\n</style>\n<table border=\"1\" class=\"dataframe\">\n  <thead>\n    <tr style=\"text-align: right;\">\n      <th></th>\n      <th>citrate</th>\n      <th>sucrose</th>\n      <th>glucose</th>\n    </tr>\n    <tr>\n      <th>group</th>\n      <th></th>\n      <th></th>\n      <th></th>\n    </tr>\n  </thead>\n  <tbody>\n    <tr>\n      <th>brown</th>\n      <td>5.47</td>\n      <td>5.19</td>\n      <td>6</td>\n    </tr>\n    <tr>\n      <th>green</th>\n      <td>3.95</td>\n      <td>3.26</td>\n      <td>3</td>\n    </tr>\n    <tr>\n      <th>red</th>\n      <td>NaN</td>\n      <td>0.00</td>\n      <td>1</td>\n    </tr>\n  </tbody>\n</table>\n</div>"
     },
     "execution_count": 43,
     "metadata": {},
     "output_type": "execute_result"
    }
   ],
   "source": [
    "data_2.groupby('group') \\\n",
    "    .agg({'citrate': 'var', 'sucrose': lambda x: x.max() - x.min(), 'glucose': 'count'}) \\\n",
    "    .round(2)"
   ],
   "metadata": {
    "collapsed": false,
    "pycharm": {
     "name": "#%%\n"
    }
   }
  }
 ],
 "metadata": {
  "kernelspec": {
   "display_name": "Python 3",
   "language": "python",
   "name": "python3"
  },
  "language_info": {
   "codemirror_mode": {
    "name": "ipython",
    "version": 2
   },
   "file_extension": ".py",
   "mimetype": "text/x-python",
   "name": "python",
   "nbconvert_exporter": "python",
   "pygments_lexer": "ipython2",
   "version": "2.7.6"
  }
 },
 "nbformat": 4,
 "nbformat_minor": 0
}